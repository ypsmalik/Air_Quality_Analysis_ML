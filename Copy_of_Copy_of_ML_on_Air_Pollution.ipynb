{
  "cells": [
    {
      "cell_type": "markdown",
      "metadata": {
        "id": "yWIQtm7atXvg"
      },
      "source": [
        "## **Load** **Dataset**"
      ]
    },
    {
      "cell_type": "code",
      "execution_count": 332,
      "metadata": {
        "id": "J25bJnypFnDN"
      },
      "outputs": [],
      "source": [
        "\n",
        "import pandas as pd\n",
        "df = pd.read_csv('Processed_Data_V2.csv')"
      ]
    },
    {
      "cell_type": "markdown",
      "metadata": {
        "id": "uOc0zS39uD-m"
      },
      "source": [
        "# **Data Preprocessing**"
      ]
    },
    {
      "cell_type": "code",
      "execution_count": 333,
      "metadata": {},
      "outputs": [],
      "source": [
        "# create a dictionary of pm 2.5 values and their corresponding AQI category\n",
        "aqi_dict = {0: 'Good', 51: 'Satisfactory', 101: 'Moderate', 251: 'Poor', 351: 'Very Poor', 431: 'Severe'}\n",
        "\n",
        "# create a function to map pm 2.5 values to AQI categories\n",
        "def get_aqi_bucket(value):\n",
        "    for aqi_value, aqi_category in aqi_dict.items():\n",
        "        if value <= aqi_value:\n",
        "            return aqi_category\n",
        "    return 'Beyond Index'\n",
        "\n",
        "# create a new column named aqi_bucket based on pm_2.5 values\n",
        "df['aqi_bucket'] = df['PM2.5'].apply(get_aqi_bucket)"
      ]
    },
    {
      "cell_type": "code",
      "execution_count": 334,
      "metadata": {
        "colab": {
          "base_uri": "https://localhost:8080/",
          "height": 520
        },
        "id": "AbYrgq5YsIxu",
        "outputId": "7f2c944b-f81c-4b53-f3c4-9d18b8dbcd6a"
      },
      "outputs": [
        {
          "data": {
            "text/html": [
              "<div>\n",
              "<style scoped>\n",
              "    .dataframe tbody tr th:only-of-type {\n",
              "        vertical-align: middle;\n",
              "    }\n",
              "\n",
              "    .dataframe tbody tr th {\n",
              "        vertical-align: top;\n",
              "    }\n",
              "\n",
              "    .dataframe thead th {\n",
              "        text-align: right;\n",
              "    }\n",
              "</style>\n",
              "<table border=\"1\" class=\"dataframe\">\n",
              "  <thead>\n",
              "    <tr style=\"text-align: right;\">\n",
              "      <th></th>\n",
              "      <th>Workbook</th>\n",
              "      <th>Regions</th>\n",
              "      <th>State - Code</th>\n",
              "      <th>From Date</th>\n",
              "      <th>To Date</th>\n",
              "      <th>CO</th>\n",
              "      <th>NH3</th>\n",
              "      <th>NO2</th>\n",
              "      <th>Ozone</th>\n",
              "      <th>PM10</th>\n",
              "      <th>PM2.5</th>\n",
              "      <th>SO2</th>\n",
              "      <th>aqi_bucket</th>\n",
              "    </tr>\n",
              "  </thead>\n",
              "  <tbody>\n",
              "    <tr>\n",
              "      <th>15641</th>\n",
              "      <td>2018</td>\n",
              "      <td>Vivek Vihar</td>\n",
              "      <td>Delhi - DPCC</td>\n",
              "      <td>11-07-2018 12:00</td>\n",
              "      <td>12-07-2018 12:00</td>\n",
              "      <td>1.11</td>\n",
              "      <td>34.32</td>\n",
              "      <td>28.81</td>\n",
              "      <td>13.84</td>\n",
              "      <td>130.75</td>\n",
              "      <td>43.30</td>\n",
              "      <td>12.48</td>\n",
              "      <td>Satisfactory</td>\n",
              "    </tr>\n",
              "    <tr>\n",
              "      <th>2608</th>\n",
              "      <td>2017</td>\n",
              "      <td>North Campus DU</td>\n",
              "      <td>Delhi - IMD</td>\n",
              "      <td>06-09-2017 12:00</td>\n",
              "      <td>07-09-2017 12:00</td>\n",
              "      <td>0.00</td>\n",
              "      <td>NaN</td>\n",
              "      <td>0.00</td>\n",
              "      <td>29.15</td>\n",
              "      <td>0.00</td>\n",
              "      <td>0.00</td>\n",
              "      <td>NaN</td>\n",
              "      <td>Good</td>\n",
              "    </tr>\n",
              "    <tr>\n",
              "      <th>35446</th>\n",
              "      <td>2020</td>\n",
              "      <td>Lodhi Road</td>\n",
              "      <td>Delhi - IMD</td>\n",
              "      <td>12-02-2020 12:00</td>\n",
              "      <td>13-02-2020 12:00</td>\n",
              "      <td>0.94</td>\n",
              "      <td>NaN</td>\n",
              "      <td>26.02</td>\n",
              "      <td>39.46</td>\n",
              "      <td>165.26</td>\n",
              "      <td>78.39</td>\n",
              "      <td>NaN</td>\n",
              "      <td>Moderate</td>\n",
              "    </tr>\n",
              "    <tr>\n",
              "      <th>4712</th>\n",
              "      <td>2018</td>\n",
              "      <td>Ashok Vihar</td>\n",
              "      <td>Delhi - DPCC</td>\n",
              "      <td>24-10-2018 12:00</td>\n",
              "      <td>25-10-2018 12:00</td>\n",
              "      <td>1.74</td>\n",
              "      <td>41.65</td>\n",
              "      <td>85.39</td>\n",
              "      <td>85.19</td>\n",
              "      <td>335.85</td>\n",
              "      <td>64.06</td>\n",
              "      <td>27.02</td>\n",
              "      <td>Moderate</td>\n",
              "    </tr>\n",
              "    <tr>\n",
              "      <th>8320</th>\n",
              "      <td>2018</td>\n",
              "      <td>ITO</td>\n",
              "      <td>Delhi - CPCB</td>\n",
              "      <td>15-11-2018 12:00</td>\n",
              "      <td>16-11-2018 12:00</td>\n",
              "      <td>0.78</td>\n",
              "      <td>17.10</td>\n",
              "      <td>47.24</td>\n",
              "      <td>32.61</td>\n",
              "      <td>193.58</td>\n",
              "      <td>146.17</td>\n",
              "      <td>3.55</td>\n",
              "      <td>Poor</td>\n",
              "    </tr>\n",
              "    <tr>\n",
              "      <th>67950</th>\n",
              "      <td>2022</td>\n",
              "      <td>Okhla Phase-2</td>\n",
              "      <td>Delhi - DPCC</td>\n",
              "      <td>21-02-2022 12:00</td>\n",
              "      <td>22-02-2022 12:00</td>\n",
              "      <td>1.60</td>\n",
              "      <td>33.45</td>\n",
              "      <td>86.19</td>\n",
              "      <td>33.24</td>\n",
              "      <td>293.91</td>\n",
              "      <td>90.40</td>\n",
              "      <td>10.09</td>\n",
              "      <td>Moderate</td>\n",
              "    </tr>\n",
              "    <tr>\n",
              "      <th>68737</th>\n",
              "      <td>2022</td>\n",
              "      <td>Punjabi Bagh</td>\n",
              "      <td>Delhi - DPCC</td>\n",
              "      <td>17-01-2022 12:00</td>\n",
              "      <td>18-01-2022 12:00</td>\n",
              "      <td>1.81</td>\n",
              "      <td>31.07</td>\n",
              "      <td>67.94</td>\n",
              "      <td>17.49</td>\n",
              "      <td>389.50</td>\n",
              "      <td>262.02</td>\n",
              "      <td>18.66</td>\n",
              "      <td>Very Poor</td>\n",
              "    </tr>\n",
              "    <tr>\n",
              "      <th>64096</th>\n",
              "      <td>2022</td>\n",
              "      <td>Lodhi Road</td>\n",
              "      <td>Delhi - IITM</td>\n",
              "      <td>22-05-2022 12:00</td>\n",
              "      <td>23-05-2022 12:00</td>\n",
              "      <td>NaN</td>\n",
              "      <td>NaN</td>\n",
              "      <td>16.31</td>\n",
              "      <td>NaN</td>\n",
              "      <td>135.62</td>\n",
              "      <td>79.15</td>\n",
              "      <td>4.12</td>\n",
              "      <td>Moderate</td>\n",
              "    </tr>\n",
              "    <tr>\n",
              "      <th>62815</th>\n",
              "      <td>2022</td>\n",
              "      <td>ITO</td>\n",
              "      <td>Delhi - CPCB</td>\n",
              "      <td>19-03-2022 12:00</td>\n",
              "      <td>20-03-2022 12:00</td>\n",
              "      <td>1.21</td>\n",
              "      <td>20.01</td>\n",
              "      <td>33.80</td>\n",
              "      <td>23.11</td>\n",
              "      <td>214.11</td>\n",
              "      <td>131.69</td>\n",
              "      <td>24.72</td>\n",
              "      <td>Poor</td>\n",
              "    </tr>\n",
              "    <tr>\n",
              "      <th>32554</th>\n",
              "      <td>2020</td>\n",
              "      <td>Dr. Karni Singh Shooting Range</td>\n",
              "      <td>Delhi - DPCC</td>\n",
              "      <td>21-04-2020 12:00</td>\n",
              "      <td>22-04-2020 12:00</td>\n",
              "      <td>0.48</td>\n",
              "      <td>30.42</td>\n",
              "      <td>14.60</td>\n",
              "      <td>96.91</td>\n",
              "      <td>93.45</td>\n",
              "      <td>31.44</td>\n",
              "      <td>14.19</td>\n",
              "      <td>Satisfactory</td>\n",
              "    </tr>\n",
              "    <tr>\n",
              "      <th>52488</th>\n",
              "      <td>2021</td>\n",
              "      <td>North Campus DU</td>\n",
              "      <td>Delhi - IMD</td>\n",
              "      <td>25-08-2021 12:00</td>\n",
              "      <td>26-08-2021 12:00</td>\n",
              "      <td>0.28</td>\n",
              "      <td>NaN</td>\n",
              "      <td>4.81</td>\n",
              "      <td>19.28</td>\n",
              "      <td>104.47</td>\n",
              "      <td>30.40</td>\n",
              "      <td>NaN</td>\n",
              "      <td>Satisfactory</td>\n",
              "    </tr>\n",
              "    <tr>\n",
              "      <th>1366</th>\n",
              "      <td>2017</td>\n",
              "      <td>IHBAS Dilshad Garden</td>\n",
              "      <td>Delhi - CPCB</td>\n",
              "      <td>12-07-2017 12:00</td>\n",
              "      <td>13-07-2017 12:00</td>\n",
              "      <td>344.30</td>\n",
              "      <td>27.92</td>\n",
              "      <td>26.05</td>\n",
              "      <td>NaN</td>\n",
              "      <td>NaN</td>\n",
              "      <td>12.21</td>\n",
              "      <td>14.64</td>\n",
              "      <td>Satisfactory</td>\n",
              "    </tr>\n",
              "    <tr>\n",
              "      <th>29161</th>\n",
              "      <td>2019</td>\n",
              "      <td>Vivek Vihar</td>\n",
              "      <td>Delhi - DPCC</td>\n",
              "      <td>29-01-2019 12:00</td>\n",
              "      <td>30-01-2019 12:00</td>\n",
              "      <td>0.00</td>\n",
              "      <td>30.89</td>\n",
              "      <td>52.20</td>\n",
              "      <td>40.15</td>\n",
              "      <td>268.58</td>\n",
              "      <td>158.52</td>\n",
              "      <td>21.86</td>\n",
              "      <td>Poor</td>\n",
              "    </tr>\n",
              "    <tr>\n",
              "      <th>7248</th>\n",
              "      <td>2018</td>\n",
              "      <td>East Arjun Nagar</td>\n",
              "      <td>Delhi - CPCB</td>\n",
              "      <td>19-11-2018 12:00</td>\n",
              "      <td>20-11-2018 12:00</td>\n",
              "      <td>NaN</td>\n",
              "      <td>NaN</td>\n",
              "      <td>69.96</td>\n",
              "      <td>85.83</td>\n",
              "      <td>NaN</td>\n",
              "      <td>NaN</td>\n",
              "      <td>12.88</td>\n",
              "      <td>Beyond Index</td>\n",
              "    </tr>\n",
              "    <tr>\n",
              "      <th>38575</th>\n",
              "      <td>2020</td>\n",
              "      <td>North Campus DU</td>\n",
              "      <td>Delhi - IMD</td>\n",
              "      <td>18-11-2020 12:00</td>\n",
              "      <td>19-11-2020 12:00</td>\n",
              "      <td>1.63</td>\n",
              "      <td>NaN</td>\n",
              "      <td>38.00</td>\n",
              "      <td>21.85</td>\n",
              "      <td>185.28</td>\n",
              "      <td>104.86</td>\n",
              "      <td>NaN</td>\n",
              "      <td>Poor</td>\n",
              "    </tr>\n",
              "  </tbody>\n",
              "</table>\n",
              "</div>"
            ],
            "text/plain": [
              "       Workbook                         Regions  State - Code  \\\n",
              "15641      2018                     Vivek Vihar  Delhi - DPCC   \n",
              "2608       2017                 North Campus DU   Delhi - IMD   \n",
              "35446      2020                      Lodhi Road   Delhi - IMD   \n",
              "4712       2018                     Ashok Vihar  Delhi - DPCC   \n",
              "8320       2018                             ITO  Delhi - CPCB   \n",
              "67950      2022                   Okhla Phase-2  Delhi - DPCC   \n",
              "68737      2022                    Punjabi Bagh  Delhi - DPCC   \n",
              "64096      2022                      Lodhi Road  Delhi - IITM   \n",
              "62815      2022                             ITO  Delhi - CPCB   \n",
              "32554      2020  Dr. Karni Singh Shooting Range  Delhi - DPCC   \n",
              "52488      2021                 North Campus DU   Delhi - IMD   \n",
              "1366       2017            IHBAS Dilshad Garden  Delhi - CPCB   \n",
              "29161      2019                     Vivek Vihar  Delhi - DPCC   \n",
              "7248       2018                East Arjun Nagar  Delhi - CPCB   \n",
              "38575      2020                 North Campus DU   Delhi - IMD   \n",
              "\n",
              "              From Date           To Date      CO    NH3    NO2  Ozone  \\\n",
              "15641  11-07-2018 12:00  12-07-2018 12:00    1.11  34.32  28.81  13.84   \n",
              "2608   06-09-2017 12:00  07-09-2017 12:00    0.00    NaN   0.00  29.15   \n",
              "35446  12-02-2020 12:00  13-02-2020 12:00    0.94    NaN  26.02  39.46   \n",
              "4712   24-10-2018 12:00  25-10-2018 12:00    1.74  41.65  85.39  85.19   \n",
              "8320   15-11-2018 12:00  16-11-2018 12:00    0.78  17.10  47.24  32.61   \n",
              "67950  21-02-2022 12:00  22-02-2022 12:00    1.60  33.45  86.19  33.24   \n",
              "68737  17-01-2022 12:00  18-01-2022 12:00    1.81  31.07  67.94  17.49   \n",
              "64096  22-05-2022 12:00  23-05-2022 12:00     NaN    NaN  16.31    NaN   \n",
              "62815  19-03-2022 12:00  20-03-2022 12:00    1.21  20.01  33.80  23.11   \n",
              "32554  21-04-2020 12:00  22-04-2020 12:00    0.48  30.42  14.60  96.91   \n",
              "52488  25-08-2021 12:00  26-08-2021 12:00    0.28    NaN   4.81  19.28   \n",
              "1366   12-07-2017 12:00  13-07-2017 12:00  344.30  27.92  26.05    NaN   \n",
              "29161  29-01-2019 12:00  30-01-2019 12:00    0.00  30.89  52.20  40.15   \n",
              "7248   19-11-2018 12:00  20-11-2018 12:00     NaN    NaN  69.96  85.83   \n",
              "38575  18-11-2020 12:00  19-11-2020 12:00    1.63    NaN  38.00  21.85   \n",
              "\n",
              "         PM10   PM2.5    SO2    aqi_bucket  \n",
              "15641  130.75   43.30  12.48  Satisfactory  \n",
              "2608     0.00    0.00    NaN          Good  \n",
              "35446  165.26   78.39    NaN      Moderate  \n",
              "4712   335.85   64.06  27.02      Moderate  \n",
              "8320   193.58  146.17   3.55          Poor  \n",
              "67950  293.91   90.40  10.09      Moderate  \n",
              "68737  389.50  262.02  18.66     Very Poor  \n",
              "64096  135.62   79.15   4.12      Moderate  \n",
              "62815  214.11  131.69  24.72          Poor  \n",
              "32554   93.45   31.44  14.19  Satisfactory  \n",
              "52488  104.47   30.40    NaN  Satisfactory  \n",
              "1366      NaN   12.21  14.64  Satisfactory  \n",
              "29161  268.58  158.52  21.86          Poor  \n",
              "7248      NaN     NaN  12.88  Beyond Index  \n",
              "38575  185.28  104.86    NaN          Poor  "
            ]
          },
          "execution_count": 334,
          "metadata": {},
          "output_type": "execute_result"
        }
      ],
      "source": [
        "df.sample(15)"
      ]
    },
    {
      "cell_type": "code",
      "execution_count": 335,
      "metadata": {
        "colab": {
          "base_uri": "https://localhost:8080/"
        },
        "id": "eGkiCdcDsi18",
        "outputId": "528be321-b5fc-4701-9588-dedc310b6593"
      },
      "outputs": [
        {
          "data": {
            "text/plain": [
              "(73238, 13)"
            ]
          },
          "execution_count": 335,
          "metadata": {},
          "output_type": "execute_result"
        }
      ],
      "source": [
        "#shape of our dataset\n",
        "df.shape"
      ]
    },
    {
      "cell_type": "code",
      "execution_count": 336,
      "metadata": {
        "colab": {
          "base_uri": "https://localhost:8080/"
        },
        "id": "CmYAi4wI3cWt",
        "outputId": "d1ee69f3-5167-4147-851e-ce21c67bbad4"
      },
      "outputs": [
        {
          "name": "stdout",
          "output_type": "stream",
          "text": [
            "Number of rows 73238\n",
            "Number of rows 13\n"
          ]
        }
      ],
      "source": [
        "print('Number of rows',df.shape[0])\n",
        "print('Number of rows',df.shape[1])"
      ]
    },
    {
      "cell_type": "code",
      "execution_count": 337,
      "metadata": {
        "colab": {
          "base_uri": "https://localhost:8080/"
        },
        "id": "it1EmZTRtBmB",
        "outputId": "ca3df2c1-ee63-4439-c284-e16a20eb9dd0"
      },
      "outputs": [
        {
          "name": "stdout",
          "output_type": "stream",
          "text": [
            "<class 'pandas.core.frame.DataFrame'>\n",
            "RangeIndex: 73238 entries, 0 to 73237\n",
            "Data columns (total 13 columns):\n",
            " #   Column        Non-Null Count  Dtype  \n",
            "---  ------        --------------  -----  \n",
            " 0   Workbook      73238 non-null  int64  \n",
            " 1   Regions       73238 non-null  object \n",
            " 2   State - Code  73238 non-null  object \n",
            " 3   From Date     73238 non-null  object \n",
            " 4   To Date       73238 non-null  object \n",
            " 5   CO            68716 non-null  float64\n",
            " 6   NH3           55047 non-null  float64\n",
            " 7   NO2           71778 non-null  float64\n",
            " 8   Ozone         69483 non-null  float64\n",
            " 9   PM10          65066 non-null  float64\n",
            " 10  PM2.5         70284 non-null  float64\n",
            " 11  SO2           58822 non-null  float64\n",
            " 12  aqi_bucket    73238 non-null  object \n",
            "dtypes: float64(7), int64(1), object(5)\n",
            "memory usage: 7.3+ MB\n"
          ]
        }
      ],
      "source": [
        "#get information about dataset like total no of rows,\n",
        "#total no cols, datatypes of each col and memory\n",
        "df.info()"
      ]
    },
    {
      "cell_type": "markdown",
      "metadata": {
        "id": "3njE3ldFznPl"
      },
      "source": [
        "# **Null Value Check**"
      ]
    },
    {
      "cell_type": "code",
      "execution_count": 338,
      "metadata": {
        "colab": {
          "base_uri": "https://localhost:8080/",
          "height": 424
        },
        "id": "b2qyx9pu33e2",
        "outputId": "e9ee2ad9-e7ad-4295-83ae-7d03f7133991"
      },
      "outputs": [
        {
          "data": {
            "text/html": [
              "<div>\n",
              "<style scoped>\n",
              "    .dataframe tbody tr th:only-of-type {\n",
              "        vertical-align: middle;\n",
              "    }\n",
              "\n",
              "    .dataframe tbody tr th {\n",
              "        vertical-align: top;\n",
              "    }\n",
              "\n",
              "    .dataframe thead th {\n",
              "        text-align: right;\n",
              "    }\n",
              "</style>\n",
              "<table border=\"1\" class=\"dataframe\">\n",
              "  <thead>\n",
              "    <tr style=\"text-align: right;\">\n",
              "      <th></th>\n",
              "      <th>Workbook</th>\n",
              "      <th>Regions</th>\n",
              "      <th>State - Code</th>\n",
              "      <th>From Date</th>\n",
              "      <th>To Date</th>\n",
              "      <th>CO</th>\n",
              "      <th>NH3</th>\n",
              "      <th>NO2</th>\n",
              "      <th>Ozone</th>\n",
              "      <th>PM10</th>\n",
              "      <th>PM2.5</th>\n",
              "      <th>SO2</th>\n",
              "      <th>aqi_bucket</th>\n",
              "    </tr>\n",
              "  </thead>\n",
              "  <tbody>\n",
              "    <tr>\n",
              "      <th>0</th>\n",
              "      <td>False</td>\n",
              "      <td>False</td>\n",
              "      <td>False</td>\n",
              "      <td>False</td>\n",
              "      <td>False</td>\n",
              "      <td>False</td>\n",
              "      <td>False</td>\n",
              "      <td>False</td>\n",
              "      <td>False</td>\n",
              "      <td>False</td>\n",
              "      <td>False</td>\n",
              "      <td>False</td>\n",
              "      <td>False</td>\n",
              "    </tr>\n",
              "    <tr>\n",
              "      <th>1</th>\n",
              "      <td>False</td>\n",
              "      <td>False</td>\n",
              "      <td>False</td>\n",
              "      <td>False</td>\n",
              "      <td>False</td>\n",
              "      <td>False</td>\n",
              "      <td>False</td>\n",
              "      <td>False</td>\n",
              "      <td>False</td>\n",
              "      <td>False</td>\n",
              "      <td>False</td>\n",
              "      <td>False</td>\n",
              "      <td>False</td>\n",
              "    </tr>\n",
              "    <tr>\n",
              "      <th>2</th>\n",
              "      <td>False</td>\n",
              "      <td>False</td>\n",
              "      <td>False</td>\n",
              "      <td>False</td>\n",
              "      <td>False</td>\n",
              "      <td>False</td>\n",
              "      <td>False</td>\n",
              "      <td>False</td>\n",
              "      <td>False</td>\n",
              "      <td>False</td>\n",
              "      <td>False</td>\n",
              "      <td>False</td>\n",
              "      <td>False</td>\n",
              "    </tr>\n",
              "    <tr>\n",
              "      <th>3</th>\n",
              "      <td>False</td>\n",
              "      <td>False</td>\n",
              "      <td>False</td>\n",
              "      <td>False</td>\n",
              "      <td>False</td>\n",
              "      <td>False</td>\n",
              "      <td>False</td>\n",
              "      <td>False</td>\n",
              "      <td>False</td>\n",
              "      <td>False</td>\n",
              "      <td>False</td>\n",
              "      <td>False</td>\n",
              "      <td>False</td>\n",
              "    </tr>\n",
              "    <tr>\n",
              "      <th>4</th>\n",
              "      <td>False</td>\n",
              "      <td>False</td>\n",
              "      <td>False</td>\n",
              "      <td>False</td>\n",
              "      <td>False</td>\n",
              "      <td>False</td>\n",
              "      <td>False</td>\n",
              "      <td>False</td>\n",
              "      <td>False</td>\n",
              "      <td>False</td>\n",
              "      <td>False</td>\n",
              "      <td>False</td>\n",
              "      <td>False</td>\n",
              "    </tr>\n",
              "    <tr>\n",
              "      <th>...</th>\n",
              "      <td>...</td>\n",
              "      <td>...</td>\n",
              "      <td>...</td>\n",
              "      <td>...</td>\n",
              "      <td>...</td>\n",
              "      <td>...</td>\n",
              "      <td>...</td>\n",
              "      <td>...</td>\n",
              "      <td>...</td>\n",
              "      <td>...</td>\n",
              "      <td>...</td>\n",
              "      <td>...</td>\n",
              "      <td>...</td>\n",
              "    </tr>\n",
              "    <tr>\n",
              "      <th>73233</th>\n",
              "      <td>False</td>\n",
              "      <td>False</td>\n",
              "      <td>False</td>\n",
              "      <td>False</td>\n",
              "      <td>False</td>\n",
              "      <td>False</td>\n",
              "      <td>False</td>\n",
              "      <td>False</td>\n",
              "      <td>False</td>\n",
              "      <td>False</td>\n",
              "      <td>False</td>\n",
              "      <td>False</td>\n",
              "      <td>False</td>\n",
              "    </tr>\n",
              "    <tr>\n",
              "      <th>73234</th>\n",
              "      <td>False</td>\n",
              "      <td>False</td>\n",
              "      <td>False</td>\n",
              "      <td>False</td>\n",
              "      <td>False</td>\n",
              "      <td>False</td>\n",
              "      <td>False</td>\n",
              "      <td>False</td>\n",
              "      <td>False</td>\n",
              "      <td>False</td>\n",
              "      <td>False</td>\n",
              "      <td>False</td>\n",
              "      <td>False</td>\n",
              "    </tr>\n",
              "    <tr>\n",
              "      <th>73235</th>\n",
              "      <td>False</td>\n",
              "      <td>False</td>\n",
              "      <td>False</td>\n",
              "      <td>False</td>\n",
              "      <td>False</td>\n",
              "      <td>False</td>\n",
              "      <td>False</td>\n",
              "      <td>False</td>\n",
              "      <td>False</td>\n",
              "      <td>False</td>\n",
              "      <td>False</td>\n",
              "      <td>False</td>\n",
              "      <td>False</td>\n",
              "    </tr>\n",
              "    <tr>\n",
              "      <th>73236</th>\n",
              "      <td>False</td>\n",
              "      <td>False</td>\n",
              "      <td>False</td>\n",
              "      <td>False</td>\n",
              "      <td>False</td>\n",
              "      <td>False</td>\n",
              "      <td>False</td>\n",
              "      <td>False</td>\n",
              "      <td>False</td>\n",
              "      <td>False</td>\n",
              "      <td>False</td>\n",
              "      <td>False</td>\n",
              "      <td>False</td>\n",
              "    </tr>\n",
              "    <tr>\n",
              "      <th>73237</th>\n",
              "      <td>False</td>\n",
              "      <td>False</td>\n",
              "      <td>False</td>\n",
              "      <td>False</td>\n",
              "      <td>False</td>\n",
              "      <td>True</td>\n",
              "      <td>True</td>\n",
              "      <td>False</td>\n",
              "      <td>True</td>\n",
              "      <td>False</td>\n",
              "      <td>False</td>\n",
              "      <td>True</td>\n",
              "      <td>False</td>\n",
              "    </tr>\n",
              "  </tbody>\n",
              "</table>\n",
              "<p>73238 rows × 13 columns</p>\n",
              "</div>"
            ],
            "text/plain": [
              "       Workbook  Regions  State - Code  From Date  To Date     CO    NH3  \\\n",
              "0         False    False         False      False    False  False  False   \n",
              "1         False    False         False      False    False  False  False   \n",
              "2         False    False         False      False    False  False  False   \n",
              "3         False    False         False      False    False  False  False   \n",
              "4         False    False         False      False    False  False  False   \n",
              "...         ...      ...           ...        ...      ...    ...    ...   \n",
              "73233     False    False         False      False    False  False  False   \n",
              "73234     False    False         False      False    False  False  False   \n",
              "73235     False    False         False      False    False  False  False   \n",
              "73236     False    False         False      False    False  False  False   \n",
              "73237     False    False         False      False    False   True   True   \n",
              "\n",
              "         NO2  Ozone   PM10  PM2.5    SO2  aqi_bucket  \n",
              "0      False  False  False  False  False       False  \n",
              "1      False  False  False  False  False       False  \n",
              "2      False  False  False  False  False       False  \n",
              "3      False  False  False  False  False       False  \n",
              "4      False  False  False  False  False       False  \n",
              "...      ...    ...    ...    ...    ...         ...  \n",
              "73233  False  False  False  False  False       False  \n",
              "73234  False  False  False  False  False       False  \n",
              "73235  False  False  False  False  False       False  \n",
              "73236  False  False  False  False  False       False  \n",
              "73237  False   True  False  False   True       False  \n",
              "\n",
              "[73238 rows x 13 columns]"
            ]
          },
          "execution_count": 338,
          "metadata": {},
          "output_type": "execute_result"
        }
      ],
      "source": [
        "#check null values in the dataset\n",
        "df.isnull()"
      ]
    },
    {
      "cell_type": "code",
      "execution_count": 339,
      "metadata": {
        "colab": {
          "base_uri": "https://localhost:8080/"
        },
        "id": "70wUyEJz4FRW",
        "outputId": "0b4e796b-34d2-403a-e96a-8b4b73ce702f"
      },
      "outputs": [
        {
          "data": {
            "text/plain": [
              "Workbook            0\n",
              "Regions             0\n",
              "State - Code        0\n",
              "From Date           0\n",
              "To Date             0\n",
              "CO               4522\n",
              "NH3             18191\n",
              "NO2              1460\n",
              "Ozone            3755\n",
              "PM10             8172\n",
              "PM2.5            2954\n",
              "SO2             14416\n",
              "aqi_bucket          0\n",
              "dtype: int64"
            ]
          },
          "execution_count": 339,
          "metadata": {},
          "output_type": "execute_result"
        }
      ],
      "source": [
        "#to have count of null values\n",
        "df.isnull().sum() "
      ]
    },
    {
      "cell_type": "code",
      "execution_count": 340,
      "metadata": {
        "colab": {
          "base_uri": "https://localhost:8080/"
        },
        "id": "FfZ0bogL4mTP",
        "outputId": "c99fc20d-35bb-48f5-ada9-3620937cc658"
      },
      "outputs": [
        {
          "data": {
            "text/plain": [
              "0        0\n",
              "1        0\n",
              "2        0\n",
              "3        0\n",
              "4        0\n",
              "        ..\n",
              "73233    0\n",
              "73234    0\n",
              "73235    0\n",
              "73236    0\n",
              "73237    4\n",
              "Length: 73238, dtype: int64"
            ]
          },
          "execution_count": 340,
          "metadata": {},
          "output_type": "execute_result"
        }
      ],
      "source": [
        "df.isnull().sum(axis=1) #row-wise count of null values"
      ]
    },
    {
      "cell_type": "code",
      "execution_count": 341,
      "metadata": {
        "colab": {
          "base_uri": "https://localhost:8080/",
          "height": 1000
        },
        "id": "lxs-o8A3AM9H",
        "outputId": "14a33bfa-fd5e-4f9d-ebdd-a4472af8c64e"
      },
      "outputs": [
        {
          "data": {
            "text/html": [
              "<div>\n",
              "<style scoped>\n",
              "    .dataframe tbody tr th:only-of-type {\n",
              "        vertical-align: middle;\n",
              "    }\n",
              "\n",
              "    .dataframe tbody tr th {\n",
              "        vertical-align: top;\n",
              "    }\n",
              "\n",
              "    .dataframe thead th {\n",
              "        text-align: right;\n",
              "    }\n",
              "</style>\n",
              "<table border=\"1\" class=\"dataframe\">\n",
              "  <thead>\n",
              "    <tr style=\"text-align: right;\">\n",
              "      <th></th>\n",
              "      <th>PM10</th>\n",
              "      <th>CO</th>\n",
              "      <th>PM2.5</th>\n",
              "      <th>NO2</th>\n",
              "      <th>NH3</th>\n",
              "      <th>SO2</th>\n",
              "      <th>Ozone</th>\n",
              "    </tr>\n",
              "    <tr>\n",
              "      <th>Regions</th>\n",
              "      <th></th>\n",
              "      <th></th>\n",
              "      <th></th>\n",
              "      <th></th>\n",
              "      <th></th>\n",
              "      <th></th>\n",
              "      <th></th>\n",
              "    </tr>\n",
              "  </thead>\n",
              "  <tbody>\n",
              "    <tr>\n",
              "      <th>Anand Vihar</th>\n",
              "      <td>304.945424</td>\n",
              "      <td>2.238896</td>\n",
              "      <td>138.361047</td>\n",
              "      <td>85.233915</td>\n",
              "      <td>47.633965</td>\n",
              "      <td>18.055233</td>\n",
              "      <td>33.090834</td>\n",
              "    </tr>\n",
              "    <tr>\n",
              "      <th>Jahangirpuri</th>\n",
              "      <td>261.187928</td>\n",
              "      <td>1.540316</td>\n",
              "      <td>132.523728</td>\n",
              "      <td>59.266852</td>\n",
              "      <td>60.477840</td>\n",
              "      <td>13.961561</td>\n",
              "      <td>27.111862</td>\n",
              "    </tr>\n",
              "    <tr>\n",
              "      <th>Mundka</th>\n",
              "      <td>264.879185</td>\n",
              "      <td>1.255794</td>\n",
              "      <td>124.575656</td>\n",
              "      <td>38.491167</td>\n",
              "      <td>41.235901</td>\n",
              "      <td>17.723798</td>\n",
              "      <td>34.035385</td>\n",
              "    </tr>\n",
              "    <tr>\n",
              "      <th>Bawana</th>\n",
              "      <td>245.504426</td>\n",
              "      <td>1.198804</td>\n",
              "      <td>123.535621</td>\n",
              "      <td>26.849994</td>\n",
              "      <td>39.951307</td>\n",
              "      <td>9.711208</td>\n",
              "      <td>33.387333</td>\n",
              "    </tr>\n",
              "    <tr>\n",
              "      <th>Burari Crossing</th>\n",
              "      <td>214.374037</td>\n",
              "      <td>1.214463</td>\n",
              "      <td>123.306339</td>\n",
              "      <td>37.602396</td>\n",
              "      <td>NaN</td>\n",
              "      <td>NaN</td>\n",
              "      <td>36.948140</td>\n",
              "    </tr>\n",
              "    <tr>\n",
              "      <th>Rohini</th>\n",
              "      <td>241.594220</td>\n",
              "      <td>1.268628</td>\n",
              "      <td>121.716506</td>\n",
              "      <td>27.889482</td>\n",
              "      <td>58.525453</td>\n",
              "      <td>9.118974</td>\n",
              "      <td>25.430388</td>\n",
              "    </tr>\n",
              "    <tr>\n",
              "      <th>Wazirpur</th>\n",
              "      <td>266.271866</td>\n",
              "      <td>1.480515</td>\n",
              "      <td>120.287246</td>\n",
              "      <td>42.589427</td>\n",
              "      <td>53.226565</td>\n",
              "      <td>13.804956</td>\n",
              "      <td>21.586910</td>\n",
              "    </tr>\n",
              "    <tr>\n",
              "      <th>Nehru Nagar</th>\n",
              "      <td>212.737954</td>\n",
              "      <td>1.426007</td>\n",
              "      <td>118.730419</td>\n",
              "      <td>53.209378</td>\n",
              "      <td>42.955344</td>\n",
              "      <td>14.019538</td>\n",
              "      <td>42.454396</td>\n",
              "    </tr>\n",
              "    <tr>\n",
              "      <th>DTU</th>\n",
              "      <td>223.107264</td>\n",
              "      <td>1.264015</td>\n",
              "      <td>115.733907</td>\n",
              "      <td>37.929325</td>\n",
              "      <td>39.802177</td>\n",
              "      <td>11.020398</td>\n",
              "      <td>40.898572</td>\n",
              "    </tr>\n",
              "    <tr>\n",
              "      <th>Vivek Vihar</th>\n",
              "      <td>230.815068</td>\n",
              "      <td>1.588915</td>\n",
              "      <td>114.939863</td>\n",
              "      <td>30.225921</td>\n",
              "      <td>42.398344</td>\n",
              "      <td>14.480969</td>\n",
              "      <td>29.731252</td>\n",
              "    </tr>\n",
              "    <tr>\n",
              "      <th>Punjabi Bagh</th>\n",
              "      <td>223.273283</td>\n",
              "      <td>1.413920</td>\n",
              "      <td>113.669001</td>\n",
              "      <td>62.786636</td>\n",
              "      <td>36.205937</td>\n",
              "      <td>18.781648</td>\n",
              "      <td>34.088377</td>\n",
              "    </tr>\n",
              "    <tr>\n",
              "      <th>Narela</th>\n",
              "      <td>236.758127</td>\n",
              "      <td>1.144215</td>\n",
              "      <td>113.142897</td>\n",
              "      <td>36.999726</td>\n",
              "      <td>36.021192</td>\n",
              "      <td>12.923309</td>\n",
              "      <td>42.242584</td>\n",
              "    </tr>\n",
              "    <tr>\n",
              "      <th>ITO</th>\n",
              "      <td>183.120389</td>\n",
              "      <td>1.751953</td>\n",
              "      <td>112.648000</td>\n",
              "      <td>44.426058</td>\n",
              "      <td>46.785799</td>\n",
              "      <td>12.348092</td>\n",
              "      <td>23.277006</td>\n",
              "    </tr>\n",
              "    <tr>\n",
              "      <th>Ashok Vihar</th>\n",
              "      <td>223.930962</td>\n",
              "      <td>1.212028</td>\n",
              "      <td>112.442608</td>\n",
              "      <td>39.976574</td>\n",
              "      <td>34.618904</td>\n",
              "      <td>17.041566</td>\n",
              "      <td>35.360055</td>\n",
              "    </tr>\n",
              "    <tr>\n",
              "      <th>Sonia Vihar</th>\n",
              "      <td>221.111621</td>\n",
              "      <td>1.360469</td>\n",
              "      <td>109.951675</td>\n",
              "      <td>34.379956</td>\n",
              "      <td>38.868022</td>\n",
              "      <td>11.650288</td>\n",
              "      <td>42.127576</td>\n",
              "    </tr>\n",
              "    <tr>\n",
              "      <th>NSIT Dwarka</th>\n",
              "      <td>230.404822</td>\n",
              "      <td>20.100644</td>\n",
              "      <td>109.519276</td>\n",
              "      <td>30.970910</td>\n",
              "      <td>52.804927</td>\n",
              "      <td>11.033008</td>\n",
              "      <td>30.143962</td>\n",
              "    </tr>\n",
              "    <tr>\n",
              "      <th>Alipur</th>\n",
              "      <td>204.629702</td>\n",
              "      <td>0.971124</td>\n",
              "      <td>108.156242</td>\n",
              "      <td>35.602201</td>\n",
              "      <td>23.242905</td>\n",
              "      <td>15.076411</td>\n",
              "      <td>30.144960</td>\n",
              "    </tr>\n",
              "    <tr>\n",
              "      <th>Dwarka-Sector 8</th>\n",
              "      <td>261.204706</td>\n",
              "      <td>1.332186</td>\n",
              "      <td>105.825731</td>\n",
              "      <td>36.379609</td>\n",
              "      <td>42.455016</td>\n",
              "      <td>10.760116</td>\n",
              "      <td>31.850685</td>\n",
              "    </tr>\n",
              "    <tr>\n",
              "      <th>Patparganj</th>\n",
              "      <td>197.395258</td>\n",
              "      <td>1.238614</td>\n",
              "      <td>105.690256</td>\n",
              "      <td>32.551479</td>\n",
              "      <td>47.271743</td>\n",
              "      <td>6.478483</td>\n",
              "      <td>30.333876</td>\n",
              "    </tr>\n",
              "    <tr>\n",
              "      <th>R K Puram</th>\n",
              "      <td>209.842755</td>\n",
              "      <td>1.410255</td>\n",
              "      <td>104.282449</td>\n",
              "      <td>50.217086</td>\n",
              "      <td>31.562772</td>\n",
              "      <td>16.162894</td>\n",
              "      <td>42.144418</td>\n",
              "    </tr>\n",
              "    <tr>\n",
              "      <th>North Campus DU</th>\n",
              "      <td>202.743583</td>\n",
              "      <td>1.644534</td>\n",
              "      <td>102.981707</td>\n",
              "      <td>25.873706</td>\n",
              "      <td>NaN</td>\n",
              "      <td>NaN</td>\n",
              "      <td>26.446291</td>\n",
              "    </tr>\n",
              "    <tr>\n",
              "      <th>Sirifort</th>\n",
              "      <td>229.105483</td>\n",
              "      <td>1.494894</td>\n",
              "      <td>102.735122</td>\n",
              "      <td>43.144561</td>\n",
              "      <td>35.014169</td>\n",
              "      <td>10.082786</td>\n",
              "      <td>49.163292</td>\n",
              "    </tr>\n",
              "    <tr>\n",
              "      <th>CRRI Mathura Road</th>\n",
              "      <td>220.430295</td>\n",
              "      <td>1.669306</td>\n",
              "      <td>102.608236</td>\n",
              "      <td>37.975781</td>\n",
              "      <td>NaN</td>\n",
              "      <td>NaN</td>\n",
              "      <td>28.238212</td>\n",
              "    </tr>\n",
              "    <tr>\n",
              "      <th>Okhla Phase-2</th>\n",
              "      <td>219.806457</td>\n",
              "      <td>1.471078</td>\n",
              "      <td>101.527129</td>\n",
              "      <td>48.067401</td>\n",
              "      <td>38.125787</td>\n",
              "      <td>12.680827</td>\n",
              "      <td>28.137269</td>\n",
              "    </tr>\n",
              "    <tr>\n",
              "      <th>Shadipur</th>\n",
              "      <td>235.691899</td>\n",
              "      <td>8.624814</td>\n",
              "      <td>98.691380</td>\n",
              "      <td>47.927606</td>\n",
              "      <td>52.280117</td>\n",
              "      <td>10.561098</td>\n",
              "      <td>26.964015</td>\n",
              "    </tr>\n",
              "    <tr>\n",
              "      <th>Mandir Marg</th>\n",
              "      <td>179.969119</td>\n",
              "      <td>1.162014</td>\n",
              "      <td>98.267717</td>\n",
              "      <td>54.767557</td>\n",
              "      <td>24.369106</td>\n",
              "      <td>12.388192</td>\n",
              "      <td>23.800427</td>\n",
              "    </tr>\n",
              "    <tr>\n",
              "      <th>Jawaharlal Nehru Stadium</th>\n",
              "      <td>200.731636</td>\n",
              "      <td>1.606526</td>\n",
              "      <td>98.188618</td>\n",
              "      <td>61.265164</td>\n",
              "      <td>33.734626</td>\n",
              "      <td>15.838365</td>\n",
              "      <td>37.442371</td>\n",
              "    </tr>\n",
              "    <tr>\n",
              "      <th>Major Dhyan Chand National Stadium</th>\n",
              "      <td>200.704194</td>\n",
              "      <td>1.328117</td>\n",
              "      <td>97.069229</td>\n",
              "      <td>46.068864</td>\n",
              "      <td>40.110666</td>\n",
              "      <td>11.171338</td>\n",
              "      <td>27.655283</td>\n",
              "    </tr>\n",
              "    <tr>\n",
              "      <th>IHBAS Dilshad Garden</th>\n",
              "      <td>210.953767</td>\n",
              "      <td>53.698843</td>\n",
              "      <td>92.128057</td>\n",
              "      <td>48.929612</td>\n",
              "      <td>48.098648</td>\n",
              "      <td>13.740063</td>\n",
              "      <td>20.449915</td>\n",
              "    </tr>\n",
              "    <tr>\n",
              "      <th>Pusa</th>\n",
              "      <td>184.212191</td>\n",
              "      <td>1.440320</td>\n",
              "      <td>91.337388</td>\n",
              "      <td>44.709872</td>\n",
              "      <td>53.537780</td>\n",
              "      <td>13.686032</td>\n",
              "      <td>28.213357</td>\n",
              "    </tr>\n",
              "    <tr>\n",
              "      <th>Chandni Chowk</th>\n",
              "      <td>285.535183</td>\n",
              "      <td>1.579300</td>\n",
              "      <td>90.405972</td>\n",
              "      <td>42.511664</td>\n",
              "      <td>60.736779</td>\n",
              "      <td>7.173994</td>\n",
              "      <td>21.707023</td>\n",
              "    </tr>\n",
              "    <tr>\n",
              "      <th>IGI Airport (T3)</th>\n",
              "      <td>187.159950</td>\n",
              "      <td>1.419556</td>\n",
              "      <td>90.373101</td>\n",
              "      <td>39.062335</td>\n",
              "      <td>NaN</td>\n",
              "      <td>NaN</td>\n",
              "      <td>23.380176</td>\n",
              "    </tr>\n",
              "    <tr>\n",
              "      <th>Lodhi Road</th>\n",
              "      <td>165.820880</td>\n",
              "      <td>1.275802</td>\n",
              "      <td>88.181026</td>\n",
              "      <td>22.840928</td>\n",
              "      <td>45.315154</td>\n",
              "      <td>6.726097</td>\n",
              "      <td>23.313530</td>\n",
              "    </tr>\n",
              "    <tr>\n",
              "      <th>Dr. Karni Singh Shooting Range</th>\n",
              "      <td>185.335438</td>\n",
              "      <td>1.195215</td>\n",
              "      <td>88.099153</td>\n",
              "      <td>54.166576</td>\n",
              "      <td>27.833134</td>\n",
              "      <td>15.435732</td>\n",
              "      <td>46.767099</td>\n",
              "    </tr>\n",
              "    <tr>\n",
              "      <th>Sri Aurobindo Marg</th>\n",
              "      <td>151.941502</td>\n",
              "      <td>1.152470</td>\n",
              "      <td>87.665949</td>\n",
              "      <td>29.419816</td>\n",
              "      <td>27.430202</td>\n",
              "      <td>7.940041</td>\n",
              "      <td>41.749864</td>\n",
              "    </tr>\n",
              "    <tr>\n",
              "      <th>Najafgarh</th>\n",
              "      <td>166.044084</td>\n",
              "      <td>0.906419</td>\n",
              "      <td>85.338987</td>\n",
              "      <td>21.015091</td>\n",
              "      <td>36.015333</td>\n",
              "      <td>7.603551</td>\n",
              "      <td>36.563391</td>\n",
              "    </tr>\n",
              "    <tr>\n",
              "      <th>Aya Nagar</th>\n",
              "      <td>161.774047</td>\n",
              "      <td>1.254148</td>\n",
              "      <td>81.627736</td>\n",
              "      <td>21.023355</td>\n",
              "      <td>NaN</td>\n",
              "      <td>NaN</td>\n",
              "      <td>33.988393</td>\n",
              "    </tr>\n",
              "    <tr>\n",
              "      <th>East Arjun Nagar</th>\n",
              "      <td>NaN</td>\n",
              "      <td>NaN</td>\n",
              "      <td>NaN</td>\n",
              "      <td>59.827703</td>\n",
              "      <td>NaN</td>\n",
              "      <td>16.304883</td>\n",
              "      <td>41.745214</td>\n",
              "    </tr>\n",
              "  </tbody>\n",
              "</table>\n",
              "</div>"
            ],
            "text/plain": [
              "                                          PM10         CO       PM2.5  \\\n",
              "Regions                                                                 \n",
              "Anand Vihar                         304.945424   2.238896  138.361047   \n",
              "Jahangirpuri                        261.187928   1.540316  132.523728   \n",
              "Mundka                              264.879185   1.255794  124.575656   \n",
              "Bawana                              245.504426   1.198804  123.535621   \n",
              "Burari Crossing                     214.374037   1.214463  123.306339   \n",
              "Rohini                              241.594220   1.268628  121.716506   \n",
              "Wazirpur                            266.271866   1.480515  120.287246   \n",
              "Nehru Nagar                         212.737954   1.426007  118.730419   \n",
              "DTU                                 223.107264   1.264015  115.733907   \n",
              "Vivek Vihar                         230.815068   1.588915  114.939863   \n",
              "Punjabi Bagh                        223.273283   1.413920  113.669001   \n",
              "Narela                              236.758127   1.144215  113.142897   \n",
              "ITO                                 183.120389   1.751953  112.648000   \n",
              "Ashok Vihar                         223.930962   1.212028  112.442608   \n",
              "Sonia Vihar                         221.111621   1.360469  109.951675   \n",
              "NSIT Dwarka                         230.404822  20.100644  109.519276   \n",
              "Alipur                              204.629702   0.971124  108.156242   \n",
              "Dwarka-Sector 8                     261.204706   1.332186  105.825731   \n",
              "Patparganj                          197.395258   1.238614  105.690256   \n",
              "R K Puram                           209.842755   1.410255  104.282449   \n",
              "North Campus DU                     202.743583   1.644534  102.981707   \n",
              "Sirifort                            229.105483   1.494894  102.735122   \n",
              "CRRI Mathura Road                   220.430295   1.669306  102.608236   \n",
              "Okhla Phase-2                       219.806457   1.471078  101.527129   \n",
              "Shadipur                            235.691899   8.624814   98.691380   \n",
              "Mandir Marg                         179.969119   1.162014   98.267717   \n",
              "Jawaharlal Nehru Stadium            200.731636   1.606526   98.188618   \n",
              "Major Dhyan Chand National Stadium  200.704194   1.328117   97.069229   \n",
              "IHBAS Dilshad Garden                210.953767  53.698843   92.128057   \n",
              "Pusa                                184.212191   1.440320   91.337388   \n",
              "Chandni Chowk                       285.535183   1.579300   90.405972   \n",
              "IGI Airport (T3)                    187.159950   1.419556   90.373101   \n",
              "Lodhi Road                          165.820880   1.275802   88.181026   \n",
              "Dr. Karni Singh Shooting Range      185.335438   1.195215   88.099153   \n",
              "Sri Aurobindo Marg                  151.941502   1.152470   87.665949   \n",
              "Najafgarh                           166.044084   0.906419   85.338987   \n",
              "Aya Nagar                           161.774047   1.254148   81.627736   \n",
              "East Arjun Nagar                           NaN        NaN         NaN   \n",
              "\n",
              "                                          NO2        NH3        SO2      Ozone  \n",
              "Regions                                                                         \n",
              "Anand Vihar                         85.233915  47.633965  18.055233  33.090834  \n",
              "Jahangirpuri                        59.266852  60.477840  13.961561  27.111862  \n",
              "Mundka                              38.491167  41.235901  17.723798  34.035385  \n",
              "Bawana                              26.849994  39.951307   9.711208  33.387333  \n",
              "Burari Crossing                     37.602396        NaN        NaN  36.948140  \n",
              "Rohini                              27.889482  58.525453   9.118974  25.430388  \n",
              "Wazirpur                            42.589427  53.226565  13.804956  21.586910  \n",
              "Nehru Nagar                         53.209378  42.955344  14.019538  42.454396  \n",
              "DTU                                 37.929325  39.802177  11.020398  40.898572  \n",
              "Vivek Vihar                         30.225921  42.398344  14.480969  29.731252  \n",
              "Punjabi Bagh                        62.786636  36.205937  18.781648  34.088377  \n",
              "Narela                              36.999726  36.021192  12.923309  42.242584  \n",
              "ITO                                 44.426058  46.785799  12.348092  23.277006  \n",
              "Ashok Vihar                         39.976574  34.618904  17.041566  35.360055  \n",
              "Sonia Vihar                         34.379956  38.868022  11.650288  42.127576  \n",
              "NSIT Dwarka                         30.970910  52.804927  11.033008  30.143962  \n",
              "Alipur                              35.602201  23.242905  15.076411  30.144960  \n",
              "Dwarka-Sector 8                     36.379609  42.455016  10.760116  31.850685  \n",
              "Patparganj                          32.551479  47.271743   6.478483  30.333876  \n",
              "R K Puram                           50.217086  31.562772  16.162894  42.144418  \n",
              "North Campus DU                     25.873706        NaN        NaN  26.446291  \n",
              "Sirifort                            43.144561  35.014169  10.082786  49.163292  \n",
              "CRRI Mathura Road                   37.975781        NaN        NaN  28.238212  \n",
              "Okhla Phase-2                       48.067401  38.125787  12.680827  28.137269  \n",
              "Shadipur                            47.927606  52.280117  10.561098  26.964015  \n",
              "Mandir Marg                         54.767557  24.369106  12.388192  23.800427  \n",
              "Jawaharlal Nehru Stadium            61.265164  33.734626  15.838365  37.442371  \n",
              "Major Dhyan Chand National Stadium  46.068864  40.110666  11.171338  27.655283  \n",
              "IHBAS Dilshad Garden                48.929612  48.098648  13.740063  20.449915  \n",
              "Pusa                                44.709872  53.537780  13.686032  28.213357  \n",
              "Chandni Chowk                       42.511664  60.736779   7.173994  21.707023  \n",
              "IGI Airport (T3)                    39.062335        NaN        NaN  23.380176  \n",
              "Lodhi Road                          22.840928  45.315154   6.726097  23.313530  \n",
              "Dr. Karni Singh Shooting Range      54.166576  27.833134  15.435732  46.767099  \n",
              "Sri Aurobindo Marg                  29.419816  27.430202   7.940041  41.749864  \n",
              "Najafgarh                           21.015091  36.015333   7.603551  36.563391  \n",
              "Aya Nagar                           21.023355        NaN        NaN  33.988393  \n",
              "East Arjun Nagar                    59.827703        NaN  16.304883  41.745214  "
            ]
          },
          "execution_count": 341,
          "metadata": {},
          "output_type": "execute_result"
        }
      ],
      "source": [
        "# how much is the average amount of pollution in each city stations\n",
        "most_polluted = df[['Regions', 'PM10', 'CO','PM2.5','NO2','NH3','SO2','Ozone']].groupby(['Regions']).mean().sort_values(by = 'PM2.5', ascending = False)\n",
        "most_polluted"
      ]
    },
    {
      "cell_type": "markdown",
      "metadata": {
        "id": "cQlkWDo75ab3"
      },
      "source": [
        "Filling Missing Values"
      ]
    },
    {
      "cell_type": "code",
      "execution_count": 342,
      "metadata": {
        "id": "PFFoQpbGDLEg"
      },
      "outputs": [],
      "source": [
        "cols_to_fill = ['PM2.5', 'PM10', 'NO2', 'NH3', 'CO', 'SO2', 'Ozone']"
      ]
    },
    {
      "cell_type": "code",
      "execution_count": 343,
      "metadata": {
        "id": "dXuC9Z28DOke"
      },
      "outputs": [],
      "source": [
        "for col in cols_to_fill:\n",
        "    df[col] = df[col].fillna(df[col].median())"
      ]
    },
    {
      "cell_type": "code",
      "execution_count": 344,
      "metadata": {
        "colab": {
          "base_uri": "https://localhost:8080/"
        },
        "id": "qnobemANDbWU",
        "outputId": "1b53f750-6ce1-4395-b4ab-052d4e9c5356"
      },
      "outputs": [
        {
          "data": {
            "text/plain": [
              "Workbook        0\n",
              "Regions         0\n",
              "State - Code    0\n",
              "From Date       0\n",
              "To Date         0\n",
              "CO              0\n",
              "NH3             0\n",
              "NO2             0\n",
              "Ozone           0\n",
              "PM10            0\n",
              "PM2.5           0\n",
              "SO2             0\n",
              "aqi_bucket      0\n",
              "dtype: int64"
            ]
          },
          "execution_count": 344,
          "metadata": {},
          "output_type": "execute_result"
        }
      ],
      "source": [
        "df.isnull().sum() "
      ]
    },
    {
      "cell_type": "code",
      "execution_count": 345,
      "metadata": {},
      "outputs": [
        {
          "data": {
            "text/plain": [
              "array(['Very Poor', 'Poor', 'Moderate', 'Satisfactory', 'Severe',\n",
              "       'Beyond Index', 'Good'], dtype=object)"
            ]
          },
          "execution_count": 345,
          "metadata": {},
          "output_type": "execute_result"
        }
      ],
      "source": [
        "df['aqi_bucket'].unique()"
      ]
    },
    {
      "cell_type": "code",
      "execution_count": 346,
      "metadata": {},
      "outputs": [],
      "source": [
        "df['Air_Quality'] = df['aqi_bucket'].fillna('Moderate')\n",
        "df.drop('aqi_bucket',axis=1,inplace =True)"
      ]
    },
    {
      "cell_type": "code",
      "execution_count": 347,
      "metadata": {
        "colab": {
          "base_uri": "https://localhost:8080/"
        },
        "id": "A0i6u7YnEOPC",
        "outputId": "2ca8b7e1-c98f-4491-d806-65394631aa2d"
      },
      "outputs": [
        {
          "name": "stdout",
          "output_type": "stream",
          "text": [
            "<class 'pandas.core.frame.DataFrame'>\n",
            "RangeIndex: 73238 entries, 0 to 73237\n",
            "Data columns (total 13 columns):\n",
            " #   Column        Non-Null Count  Dtype  \n",
            "---  ------        --------------  -----  \n",
            " 0   Workbook      73238 non-null  int64  \n",
            " 1   Regions       73238 non-null  object \n",
            " 2   State - Code  73238 non-null  object \n",
            " 3   From Date     73238 non-null  object \n",
            " 4   To Date       73238 non-null  object \n",
            " 5   CO            73238 non-null  float64\n",
            " 6   NH3           73238 non-null  float64\n",
            " 7   NO2           73238 non-null  float64\n",
            " 8   Ozone         73238 non-null  float64\n",
            " 9   PM10          73238 non-null  float64\n",
            " 10  PM2.5         73238 non-null  float64\n",
            " 11  SO2           73238 non-null  float64\n",
            " 12  Air_Quality   73238 non-null  object \n",
            "dtypes: float64(7), int64(1), object(5)\n",
            "memory usage: 7.3+ MB\n"
          ]
        }
      ],
      "source": [
        "df.info()"
      ]
    },
    {
      "cell_type": "markdown",
      "metadata": {
        "id": "L22s24ZYEuZa"
      },
      "source": [
        "# **Data** **Analysis** and **Visualization**"
      ]
    },
    {
      "cell_type": "code",
      "execution_count": 348,
      "metadata": {
        "colab": {
          "base_uri": "https://localhost:8080/"
        },
        "id": "gTLsb6Q3EzTH",
        "outputId": "327b27d9-0dc0-43b4-9241-52d9d5418e23"
      },
      "outputs": [
        {
          "data": {
            "text/plain": [
              "0        Anand Vihar\n",
              "1        Anand Vihar\n",
              "2        Anand Vihar\n",
              "3        Anand Vihar\n",
              "4        Anand Vihar\n",
              "            ...     \n",
              "73233       Wazirpur\n",
              "73234       Wazirpur\n",
              "73235       Wazirpur\n",
              "73236       Wazirpur\n",
              "73237       Wazirpur\n",
              "Name: Regions, Length: 73238, dtype: object"
            ]
          },
          "execution_count": 348,
          "metadata": {},
          "output_type": "execute_result"
        }
      ],
      "source": [
        "df['Regions']"
      ]
    },
    {
      "cell_type": "code",
      "execution_count": 349,
      "metadata": {
        "colab": {
          "base_uri": "https://localhost:8080/",
          "height": 363
        },
        "id": "G9XnHiu9Fip0",
        "outputId": "d65ec2ac-c926-468e-8c60-6d3abfd491ba"
      },
      "outputs": [
        {
          "data": {
            "text/html": [
              "<div>\n",
              "<style scoped>\n",
              "    .dataframe tbody tr th:only-of-type {\n",
              "        vertical-align: middle;\n",
              "    }\n",
              "\n",
              "    .dataframe tbody tr th {\n",
              "        vertical-align: top;\n",
              "    }\n",
              "\n",
              "    .dataframe thead th {\n",
              "        text-align: right;\n",
              "    }\n",
              "</style>\n",
              "<table border=\"1\" class=\"dataframe\">\n",
              "  <thead>\n",
              "    <tr style=\"text-align: right;\">\n",
              "      <th></th>\n",
              "      <th>Workbook</th>\n",
              "      <th>Regions</th>\n",
              "      <th>State - Code</th>\n",
              "      <th>From Date</th>\n",
              "      <th>To Date</th>\n",
              "      <th>CO</th>\n",
              "      <th>NH3</th>\n",
              "      <th>NO2</th>\n",
              "      <th>Ozone</th>\n",
              "      <th>PM10</th>\n",
              "      <th>PM2.5</th>\n",
              "      <th>SO2</th>\n",
              "      <th>Air_Quality</th>\n",
              "    </tr>\n",
              "  </thead>\n",
              "  <tbody>\n",
              "    <tr>\n",
              "      <th>0</th>\n",
              "      <td>2017</td>\n",
              "      <td>Anand Vihar</td>\n",
              "      <td>Delhi - DPCC</td>\n",
              "      <td>01-01-2017 12:00</td>\n",
              "      <td>02-01-2017 12:00</td>\n",
              "      <td>4.16</td>\n",
              "      <td>101.85</td>\n",
              "      <td>78.06</td>\n",
              "      <td>19.50</td>\n",
              "      <td>490.59</td>\n",
              "      <td>265.85</td>\n",
              "      <td>22.41</td>\n",
              "      <td>Very Poor</td>\n",
              "    </tr>\n",
              "    <tr>\n",
              "      <th>1</th>\n",
              "      <td>2017</td>\n",
              "      <td>Anand Vihar</td>\n",
              "      <td>Delhi - DPCC</td>\n",
              "      <td>02-01-2017 12:00</td>\n",
              "      <td>03-01-2017 12:00</td>\n",
              "      <td>3.42</td>\n",
              "      <td>98.76</td>\n",
              "      <td>100.54</td>\n",
              "      <td>15.13</td>\n",
              "      <td>462.05</td>\n",
              "      <td>223.29</td>\n",
              "      <td>22.55</td>\n",
              "      <td>Poor</td>\n",
              "    </tr>\n",
              "    <tr>\n",
              "      <th>2</th>\n",
              "      <td>2017</td>\n",
              "      <td>Anand Vihar</td>\n",
              "      <td>Delhi - DPCC</td>\n",
              "      <td>03-01-2017 12:00</td>\n",
              "      <td>04-01-2017 12:00</td>\n",
              "      <td>6.96</td>\n",
              "      <td>114.48</td>\n",
              "      <td>116.27</td>\n",
              "      <td>12.83</td>\n",
              "      <td>663.72</td>\n",
              "      <td>341.61</td>\n",
              "      <td>26.62</td>\n",
              "      <td>Very Poor</td>\n",
              "    </tr>\n",
              "    <tr>\n",
              "      <th>3</th>\n",
              "      <td>2017</td>\n",
              "      <td>Anand Vihar</td>\n",
              "      <td>Delhi - DPCC</td>\n",
              "      <td>04-01-2017 12:00</td>\n",
              "      <td>05-01-2017 12:00</td>\n",
              "      <td>2.96</td>\n",
              "      <td>112.07</td>\n",
              "      <td>90.04</td>\n",
              "      <td>12.60</td>\n",
              "      <td>335.03</td>\n",
              "      <td>182.66</td>\n",
              "      <td>22.39</td>\n",
              "      <td>Poor</td>\n",
              "    </tr>\n",
              "    <tr>\n",
              "      <th>4</th>\n",
              "      <td>2017</td>\n",
              "      <td>Anand Vihar</td>\n",
              "      <td>Delhi - DPCC</td>\n",
              "      <td>05-01-2017 12:00</td>\n",
              "      <td>06-01-2017 12:00</td>\n",
              "      <td>3.45</td>\n",
              "      <td>118.43</td>\n",
              "      <td>116.02</td>\n",
              "      <td>13.01</td>\n",
              "      <td>479.20</td>\n",
              "      <td>236.25</td>\n",
              "      <td>20.61</td>\n",
              "      <td>Poor</td>\n",
              "    </tr>\n",
              "  </tbody>\n",
              "</table>\n",
              "</div>"
            ],
            "text/plain": [
              "   Workbook      Regions  State - Code         From Date           To Date  \\\n",
              "0      2017  Anand Vihar  Delhi - DPCC  01-01-2017 12:00  02-01-2017 12:00   \n",
              "1      2017  Anand Vihar  Delhi - DPCC  02-01-2017 12:00  03-01-2017 12:00   \n",
              "2      2017  Anand Vihar  Delhi - DPCC  03-01-2017 12:00  04-01-2017 12:00   \n",
              "3      2017  Anand Vihar  Delhi - DPCC  04-01-2017 12:00  05-01-2017 12:00   \n",
              "4      2017  Anand Vihar  Delhi - DPCC  05-01-2017 12:00  06-01-2017 12:00   \n",
              "\n",
              "     CO     NH3     NO2  Ozone    PM10   PM2.5    SO2 Air_Quality  \n",
              "0  4.16  101.85   78.06  19.50  490.59  265.85  22.41   Very Poor  \n",
              "1  3.42   98.76  100.54  15.13  462.05  223.29  22.55        Poor  \n",
              "2  6.96  114.48  116.27  12.83  663.72  341.61  26.62   Very Poor  \n",
              "3  2.96  112.07   90.04  12.60  335.03  182.66  22.39        Poor  \n",
              "4  3.45  118.43  116.02  13.01  479.20  236.25  20.61        Poor  "
            ]
          },
          "execution_count": 349,
          "metadata": {},
          "output_type": "execute_result"
        }
      ],
      "source": [
        "df.head()"
      ]
    },
    {
      "cell_type": "code",
      "execution_count": 350,
      "metadata": {
        "colab": {
          "base_uri": "https://localhost:8080/",
          "height": 1000
        },
        "id": "uQey4o9HbDGl",
        "outputId": "b0ab7a2d-45b6-4840-a20c-cb3c492c5b30"
      },
      "outputs": [
        {
          "data": {
            "text/html": [
              "<div>\n",
              "<style scoped>\n",
              "    .dataframe tbody tr th:only-of-type {\n",
              "        vertical-align: middle;\n",
              "    }\n",
              "\n",
              "    .dataframe tbody tr th {\n",
              "        vertical-align: top;\n",
              "    }\n",
              "\n",
              "    .dataframe thead th {\n",
              "        text-align: right;\n",
              "    }\n",
              "</style>\n",
              "<table border=\"1\" class=\"dataframe\">\n",
              "  <thead>\n",
              "    <tr style=\"text-align: right;\">\n",
              "      <th></th>\n",
              "      <th>Regions</th>\n",
              "      <th>PM2.5</th>\n",
              "    </tr>\n",
              "  </thead>\n",
              "  <tbody>\n",
              "    <tr>\n",
              "      <th>0</th>\n",
              "      <td>Dr. Karni Singh Shooting Range</td>\n",
              "      <td>58.440</td>\n",
              "    </tr>\n",
              "    <tr>\n",
              "      <th>1</th>\n",
              "      <td>Aya Nagar</td>\n",
              "      <td>61.750</td>\n",
              "    </tr>\n",
              "    <tr>\n",
              "      <th>2</th>\n",
              "      <td>Sri Aurobindo Marg</td>\n",
              "      <td>63.725</td>\n",
              "    </tr>\n",
              "    <tr>\n",
              "      <th>3</th>\n",
              "      <td>Pusa</td>\n",
              "      <td>66.880</td>\n",
              "    </tr>\n",
              "    <tr>\n",
              "      <th>4</th>\n",
              "      <td>Lodhi Road</td>\n",
              "      <td>69.275</td>\n",
              "    </tr>\n",
              "    <tr>\n",
              "      <th>5</th>\n",
              "      <td>Jawaharlal Nehru Stadium</td>\n",
              "      <td>70.050</td>\n",
              "    </tr>\n",
              "    <tr>\n",
              "      <th>6</th>\n",
              "      <td>Najafgarh</td>\n",
              "      <td>70.390</td>\n",
              "    </tr>\n",
              "    <tr>\n",
              "      <th>7</th>\n",
              "      <td>IGI Airport (T3)</td>\n",
              "      <td>71.320</td>\n",
              "    </tr>\n",
              "    <tr>\n",
              "      <th>8</th>\n",
              "      <td>Okhla Phase-2</td>\n",
              "      <td>72.930</td>\n",
              "    </tr>\n",
              "    <tr>\n",
              "      <th>9</th>\n",
              "      <td>Major Dhyan Chand National Stadium</td>\n",
              "      <td>73.300</td>\n",
              "    </tr>\n",
              "    <tr>\n",
              "      <th>10</th>\n",
              "      <td>North Campus DU</td>\n",
              "      <td>77.330</td>\n",
              "    </tr>\n",
              "    <tr>\n",
              "      <th>11</th>\n",
              "      <td>Patparganj</td>\n",
              "      <td>77.520</td>\n",
              "    </tr>\n",
              "    <tr>\n",
              "      <th>12</th>\n",
              "      <td>CRRI Mathura Road</td>\n",
              "      <td>77.630</td>\n",
              "    </tr>\n",
              "    <tr>\n",
              "      <th>13</th>\n",
              "      <td>IHBAS Dilshad Garden</td>\n",
              "      <td>78.560</td>\n",
              "    </tr>\n",
              "    <tr>\n",
              "      <th>14</th>\n",
              "      <td>Sirifort</td>\n",
              "      <td>78.655</td>\n",
              "    </tr>\n",
              "    <tr>\n",
              "      <th>15</th>\n",
              "      <td>R K Puram</td>\n",
              "      <td>78.945</td>\n",
              "    </tr>\n",
              "    <tr>\n",
              "      <th>16</th>\n",
              "      <td>Mandir Marg</td>\n",
              "      <td>79.550</td>\n",
              "    </tr>\n",
              "    <tr>\n",
              "      <th>17</th>\n",
              "      <td>East Arjun Nagar</td>\n",
              "      <td>79.550</td>\n",
              "    </tr>\n",
              "    <tr>\n",
              "      <th>18</th>\n",
              "      <td>Ashok Vihar</td>\n",
              "      <td>79.550</td>\n",
              "    </tr>\n",
              "    <tr>\n",
              "      <th>19</th>\n",
              "      <td>Dwarka-Sector 8</td>\n",
              "      <td>79.585</td>\n",
              "    </tr>\n",
              "    <tr>\n",
              "      <th>20</th>\n",
              "      <td>Nehru Nagar</td>\n",
              "      <td>79.785</td>\n",
              "    </tr>\n",
              "    <tr>\n",
              "      <th>21</th>\n",
              "      <td>Chandni Chowk</td>\n",
              "      <td>80.345</td>\n",
              "    </tr>\n",
              "    <tr>\n",
              "      <th>22</th>\n",
              "      <td>Vivek Vihar</td>\n",
              "      <td>81.170</td>\n",
              "    </tr>\n",
              "    <tr>\n",
              "      <th>23</th>\n",
              "      <td>Shadipur</td>\n",
              "      <td>81.595</td>\n",
              "    </tr>\n",
              "    <tr>\n",
              "      <th>24</th>\n",
              "      <td>Alipur</td>\n",
              "      <td>81.815</td>\n",
              "    </tr>\n",
              "    <tr>\n",
              "      <th>25</th>\n",
              "      <td>Sonia Vihar</td>\n",
              "      <td>82.080</td>\n",
              "    </tr>\n",
              "    <tr>\n",
              "      <th>26</th>\n",
              "      <td>Punjabi Bagh</td>\n",
              "      <td>83.015</td>\n",
              "    </tr>\n",
              "    <tr>\n",
              "      <th>27</th>\n",
              "      <td>DTU</td>\n",
              "      <td>84.610</td>\n",
              "    </tr>\n",
              "    <tr>\n",
              "      <th>28</th>\n",
              "      <td>ITO</td>\n",
              "      <td>86.950</td>\n",
              "    </tr>\n",
              "    <tr>\n",
              "      <th>29</th>\n",
              "      <td>Wazirpur</td>\n",
              "      <td>88.230</td>\n",
              "    </tr>\n",
              "    <tr>\n",
              "      <th>30</th>\n",
              "      <td>Rohini</td>\n",
              "      <td>89.020</td>\n",
              "    </tr>\n",
              "    <tr>\n",
              "      <th>31</th>\n",
              "      <td>Narela</td>\n",
              "      <td>89.940</td>\n",
              "    </tr>\n",
              "    <tr>\n",
              "      <th>32</th>\n",
              "      <td>NSIT Dwarka</td>\n",
              "      <td>94.030</td>\n",
              "    </tr>\n",
              "    <tr>\n",
              "      <th>33</th>\n",
              "      <td>Mundka</td>\n",
              "      <td>94.860</td>\n",
              "    </tr>\n",
              "    <tr>\n",
              "      <th>34</th>\n",
              "      <td>Bawana</td>\n",
              "      <td>95.830</td>\n",
              "    </tr>\n",
              "    <tr>\n",
              "      <th>35</th>\n",
              "      <td>Burari Crossing</td>\n",
              "      <td>96.160</td>\n",
              "    </tr>\n",
              "    <tr>\n",
              "      <th>36</th>\n",
              "      <td>Jahangirpuri</td>\n",
              "      <td>98.455</td>\n",
              "    </tr>\n",
              "    <tr>\n",
              "      <th>37</th>\n",
              "      <td>Anand Vihar</td>\n",
              "      <td>107.160</td>\n",
              "    </tr>\n",
              "  </tbody>\n",
              "</table>\n",
              "</div>"
            ],
            "text/plain": [
              "                               Regions    PM2.5\n",
              "0       Dr. Karni Singh Shooting Range   58.440\n",
              "1                            Aya Nagar   61.750\n",
              "2                   Sri Aurobindo Marg   63.725\n",
              "3                                 Pusa   66.880\n",
              "4                           Lodhi Road   69.275\n",
              "5             Jawaharlal Nehru Stadium   70.050\n",
              "6                            Najafgarh   70.390\n",
              "7                     IGI Airport (T3)   71.320\n",
              "8                        Okhla Phase-2   72.930\n",
              "9   Major Dhyan Chand National Stadium   73.300\n",
              "10                     North Campus DU   77.330\n",
              "11                          Patparganj   77.520\n",
              "12                   CRRI Mathura Road   77.630\n",
              "13                IHBAS Dilshad Garden   78.560\n",
              "14                            Sirifort   78.655\n",
              "15                           R K Puram   78.945\n",
              "16                         Mandir Marg   79.550\n",
              "17                    East Arjun Nagar   79.550\n",
              "18                         Ashok Vihar   79.550\n",
              "19                     Dwarka-Sector 8   79.585\n",
              "20                         Nehru Nagar   79.785\n",
              "21                       Chandni Chowk   80.345\n",
              "22                         Vivek Vihar   81.170\n",
              "23                            Shadipur   81.595\n",
              "24                              Alipur   81.815\n",
              "25                         Sonia Vihar   82.080\n",
              "26                        Punjabi Bagh   83.015\n",
              "27                                 DTU   84.610\n",
              "28                                 ITO   86.950\n",
              "29                            Wazirpur   88.230\n",
              "30                              Rohini   89.020\n",
              "31                              Narela   89.940\n",
              "32                         NSIT Dwarka   94.030\n",
              "33                              Mundka   94.860\n",
              "34                              Bawana   95.830\n",
              "35                     Burari Crossing   96.160\n",
              "36                        Jahangirpuri   98.455\n",
              "37                         Anand Vihar  107.160"
            ]
          },
          "execution_count": 350,
          "metadata": {},
          "output_type": "execute_result"
        }
      ],
      "source": [
        "#contribution of these major pollutants city-wise\n",
        "region_wise_pm25 = df[['Regions','PM2.5']].groupby(['Regions']).median().sort_values(['PM2.5']).reset_index()\n",
        "region_wise_pm25"
      ]
    },
    {
      "cell_type": "code",
      "execution_count": 351,
      "metadata": {
        "id": "xtN_Ctqfb8v3"
      },
      "outputs": [],
      "source": [
        "import matplotlib.pyplot as plt\n",
        "%matplotlib inline\n",
        "import seaborn as sns"
      ]
    },
    {
      "cell_type": "code",
      "execution_count": 352,
      "metadata": {
        "colab": {
          "base_uri": "https://localhost:8080/",
          "height": 937
        },
        "id": "0W8B4BhAcHa_",
        "outputId": "36894515-0340-4c6f-9e12-be0949948741"
      },
      "outputs": [
        {
          "data": {
            "image/png": "[encoded data removed]",
            "text/plain": [
              "<Figure size 2000x1000 with 1 Axes>"
            ]
          },
          "metadata": {},
          "output_type": "display_data"
        }
      ],
      "source": [
        "plt.figure(figsize=(20,10))\n",
        "sns.set(font_scale=1.5)\n",
        "sns.barplot(x='Regions', y='PM2.5', data=region_wise_pm25).set(title ='Regions & PM2.5')\n",
        "plt.xticks(rotation=90)\n",
        "plt.show()"
      ]
    },
    {
      "cell_type": "markdown",
      "metadata": {
        "id": "7JoszAdWeEkL"
      },
      "source": [
        "**1. Conclusion**: On Average, Aizwal has been the city with the best AQI and Delhi, Ahmedabad, Lucknow have very poor AQ-indices."
      ]
    },
    {
      "cell_type": "code",
      "execution_count": 353,
      "metadata": {
        "colab": {
          "base_uri": "https://localhost:8080/"
        },
        "id": "jEP2deEZebXY",
        "outputId": "28e79ef9-3fbe-4eac-f9bb-aec5606968bd"
      },
      "outputs": [
        {
          "data": {
            "text/plain": [
              "array([2017, 2018, 2019, 2020, 2021, 2022], dtype=int64)"
            ]
          },
          "execution_count": 353,
          "metadata": {},
          "output_type": "execute_result"
        }
      ],
      "source": [
        "df['Workbook'].unique()"
      ]
    },
    {
      "cell_type": "code",
      "execution_count": 354,
      "metadata": {
        "colab": {
          "base_uri": "https://localhost:8080/",
          "height": 206
        },
        "id": "3gliU3PiekSk",
        "outputId": "4c53a0a2-42b0-4bec-d74c-7363aaaacf63"
      },
      "outputs": [
        {
          "data": {
            "text/html": [
              "<div>\n",
              "<style scoped>\n",
              "    .dataframe tbody tr th:only-of-type {\n",
              "        vertical-align: middle;\n",
              "    }\n",
              "\n",
              "    .dataframe tbody tr th {\n",
              "        vertical-align: top;\n",
              "    }\n",
              "\n",
              "    .dataframe thead th {\n",
              "        text-align: right;\n",
              "    }\n",
              "</style>\n",
              "<table border=\"1\" class=\"dataframe\">\n",
              "  <thead>\n",
              "    <tr style=\"text-align: right;\">\n",
              "      <th></th>\n",
              "      <th>Workbook</th>\n",
              "      <th>Regions</th>\n",
              "      <th>State - Code</th>\n",
              "      <th>From Date</th>\n",
              "      <th>To Date</th>\n",
              "      <th>CO</th>\n",
              "      <th>NH3</th>\n",
              "      <th>NO2</th>\n",
              "      <th>Ozone</th>\n",
              "      <th>PM10</th>\n",
              "      <th>PM2.5</th>\n",
              "      <th>SO2</th>\n",
              "      <th>Air_Quality</th>\n",
              "    </tr>\n",
              "  </thead>\n",
              "  <tbody>\n",
              "    <tr>\n",
              "      <th>0</th>\n",
              "      <td>2017</td>\n",
              "      <td>Anand Vihar</td>\n",
              "      <td>Delhi - DPCC</td>\n",
              "      <td>01-01-2017 12:00</td>\n",
              "      <td>02-01-2017 12:00</td>\n",
              "      <td>4.16</td>\n",
              "      <td>101.85</td>\n",
              "      <td>78.06</td>\n",
              "      <td>19.50</td>\n",
              "      <td>490.59</td>\n",
              "      <td>265.85</td>\n",
              "      <td>22.41</td>\n",
              "      <td>Very Poor</td>\n",
              "    </tr>\n",
              "    <tr>\n",
              "      <th>1</th>\n",
              "      <td>2017</td>\n",
              "      <td>Anand Vihar</td>\n",
              "      <td>Delhi - DPCC</td>\n",
              "      <td>02-01-2017 12:00</td>\n",
              "      <td>03-01-2017 12:00</td>\n",
              "      <td>3.42</td>\n",
              "      <td>98.76</td>\n",
              "      <td>100.54</td>\n",
              "      <td>15.13</td>\n",
              "      <td>462.05</td>\n",
              "      <td>223.29</td>\n",
              "      <td>22.55</td>\n",
              "      <td>Poor</td>\n",
              "    </tr>\n",
              "    <tr>\n",
              "      <th>2</th>\n",
              "      <td>2017</td>\n",
              "      <td>Anand Vihar</td>\n",
              "      <td>Delhi - DPCC</td>\n",
              "      <td>03-01-2017 12:00</td>\n",
              "      <td>04-01-2017 12:00</td>\n",
              "      <td>6.96</td>\n",
              "      <td>114.48</td>\n",
              "      <td>116.27</td>\n",
              "      <td>12.83</td>\n",
              "      <td>663.72</td>\n",
              "      <td>341.61</td>\n",
              "      <td>26.62</td>\n",
              "      <td>Very Poor</td>\n",
              "    </tr>\n",
              "    <tr>\n",
              "      <th>3</th>\n",
              "      <td>2017</td>\n",
              "      <td>Anand Vihar</td>\n",
              "      <td>Delhi - DPCC</td>\n",
              "      <td>04-01-2017 12:00</td>\n",
              "      <td>05-01-2017 12:00</td>\n",
              "      <td>2.96</td>\n",
              "      <td>112.07</td>\n",
              "      <td>90.04</td>\n",
              "      <td>12.60</td>\n",
              "      <td>335.03</td>\n",
              "      <td>182.66</td>\n",
              "      <td>22.39</td>\n",
              "      <td>Poor</td>\n",
              "    </tr>\n",
              "    <tr>\n",
              "      <th>4</th>\n",
              "      <td>2017</td>\n",
              "      <td>Anand Vihar</td>\n",
              "      <td>Delhi - DPCC</td>\n",
              "      <td>05-01-2017 12:00</td>\n",
              "      <td>06-01-2017 12:00</td>\n",
              "      <td>3.45</td>\n",
              "      <td>118.43</td>\n",
              "      <td>116.02</td>\n",
              "      <td>13.01</td>\n",
              "      <td>479.20</td>\n",
              "      <td>236.25</td>\n",
              "      <td>20.61</td>\n",
              "      <td>Poor</td>\n",
              "    </tr>\n",
              "  </tbody>\n",
              "</table>\n",
              "</div>"
            ],
            "text/plain": [
              "   Workbook      Regions  State - Code         From Date           To Date  \\\n",
              "0      2017  Anand Vihar  Delhi - DPCC  01-01-2017 12:00  02-01-2017 12:00   \n",
              "1      2017  Anand Vihar  Delhi - DPCC  02-01-2017 12:00  03-01-2017 12:00   \n",
              "2      2017  Anand Vihar  Delhi - DPCC  03-01-2017 12:00  04-01-2017 12:00   \n",
              "3      2017  Anand Vihar  Delhi - DPCC  04-01-2017 12:00  05-01-2017 12:00   \n",
              "4      2017  Anand Vihar  Delhi - DPCC  05-01-2017 12:00  06-01-2017 12:00   \n",
              "\n",
              "     CO     NH3     NO2  Ozone    PM10   PM2.5    SO2 Air_Quality  \n",
              "0  4.16  101.85   78.06  19.50  490.59  265.85  22.41   Very Poor  \n",
              "1  3.42   98.76  100.54  15.13  462.05  223.29  22.55        Poor  \n",
              "2  6.96  114.48  116.27  12.83  663.72  341.61  26.62   Very Poor  \n",
              "3  2.96  112.07   90.04  12.60  335.03  182.66  22.39        Poor  \n",
              "4  3.45  118.43  116.02  13.01  479.20  236.25  20.61        Poor  "
            ]
          },
          "execution_count": 354,
          "metadata": {},
          "output_type": "execute_result"
        }
      ],
      "source": [
        "df.head()"
      ]
    },
    {
      "cell_type": "code",
      "execution_count": 355,
      "metadata": {
        "id": "C5AmxSjmf45Z"
      },
      "outputs": [],
      "source": [
        "x1 = df[['Regions','PM2.5','Workbook']].groupby(['Regions','Workbook']).median().sort_values(['PM2.5']).reset_index()"
      ]
    },
    {
      "cell_type": "code",
      "execution_count": 356,
      "metadata": {
        "colab": {
          "base_uri": "https://localhost:8080/",
          "height": 206
        },
        "id": "lzfaq5JrgHYD",
        "outputId": "f79660ee-a141-4d05-fc6a-1ea94eac86c5"
      },
      "outputs": [
        {
          "data": {
            "text/html": [
              "<div>\n",
              "<style scoped>\n",
              "    .dataframe tbody tr th:only-of-type {\n",
              "        vertical-align: middle;\n",
              "    }\n",
              "\n",
              "    .dataframe tbody tr th {\n",
              "        vertical-align: top;\n",
              "    }\n",
              "\n",
              "    .dataframe thead th {\n",
              "        text-align: right;\n",
              "    }\n",
              "</style>\n",
              "<table border=\"1\" class=\"dataframe\">\n",
              "  <thead>\n",
              "    <tr style=\"text-align: right;\">\n",
              "      <th></th>\n",
              "      <th>Regions</th>\n",
              "      <th>Workbook</th>\n",
              "      <th>PM2.5</th>\n",
              "    </tr>\n",
              "  </thead>\n",
              "  <tbody>\n",
              "    <tr>\n",
              "      <th>0</th>\n",
              "      <td>Punjabi Bagh</td>\n",
              "      <td>2017</td>\n",
              "      <td>20.190</td>\n",
              "    </tr>\n",
              "    <tr>\n",
              "      <th>1</th>\n",
              "      <td>Dr. Karni Singh Shooting Range</td>\n",
              "      <td>2020</td>\n",
              "      <td>44.910</td>\n",
              "    </tr>\n",
              "    <tr>\n",
              "      <th>2</th>\n",
              "      <td>Shadipur</td>\n",
              "      <td>2020</td>\n",
              "      <td>45.775</td>\n",
              "    </tr>\n",
              "    <tr>\n",
              "      <th>3</th>\n",
              "      <td>Dr. Karni Singh Shooting Range</td>\n",
              "      <td>2018</td>\n",
              "      <td>49.500</td>\n",
              "    </tr>\n",
              "    <tr>\n",
              "      <th>4</th>\n",
              "      <td>Sri Aurobindo Marg</td>\n",
              "      <td>2020</td>\n",
              "      <td>54.430</td>\n",
              "    </tr>\n",
              "  </tbody>\n",
              "</table>\n",
              "</div>"
            ],
            "text/plain": [
              "                          Regions  Workbook   PM2.5\n",
              "0                    Punjabi Bagh      2017  20.190\n",
              "1  Dr. Karni Singh Shooting Range      2020  44.910\n",
              "2                        Shadipur      2020  45.775\n",
              "3  Dr. Karni Singh Shooting Range      2018  49.500\n",
              "4              Sri Aurobindo Marg      2020  54.430"
            ]
          },
          "execution_count": 356,
          "metadata": {},
          "output_type": "execute_result"
        }
      ],
      "source": [
        "x1.head()"
      ]
    },
    {
      "cell_type": "code",
      "execution_count": 357,
      "metadata": {
        "colab": {
          "base_uri": "https://localhost:8080/",
          "height": 774
        },
        "id": "Hgnp0hzpgRJ_",
        "outputId": "35adf5e9-8fa5-4652-87ff-084485b58040"
      },
      "outputs": [
        {
          "data": {
            "image/png": "[encoded data removed]",
            "text/plain": [
              "<Figure size 1800x700 with 1 Axes>"
            ]
          },
          "metadata": {},
          "output_type": "display_data"
        }
      ],
      "source": [
        "plt.figure(figsize=(18,7))\n",
        "sns.set(font_scale=1.5)\n",
        "sns.barplot(x='Regions', y='PM2.5', data=x1,hue='Workbook',palette='bright').set(title ='year wise PM2.5')\n",
        "plt.xticks(rotation=90)\n",
        "plt.show()"
      ]
    },
    {
      "cell_type": "markdown",
      "metadata": {
        "id": "YDHT_1jQoWte"
      },
      "source": [
        "**2. Conclusion**:The plot shows a huge spike in the AQI for the city of Ahmedabad during the years 2018 & 2019.\n",
        "\n",
        "Majority of this is coming from Power plant exhaust, Road dust and transport."
      ]
    },
    {
      "cell_type": "markdown",
      "metadata": {
        "id": "yY0Yh1-WoO7Q"
      },
      "source": [
        "# **Preparing Data for Classification**"
      ]
    },
    {
      "cell_type": "code",
      "execution_count": 358,
      "metadata": {
        "colab": {
          "base_uri": "https://localhost:8080/"
        },
        "id": "DkW3xJ7FoN4I",
        "outputId": "97c71e44-6eb2-4e76-da7c-5e0e372e3542"
      },
      "outputs": [
        {
          "data": {
            "text/plain": [
              "['Regions', 'State - Code', 'From Date', 'To Date', 'Air_Quality']"
            ]
          },
          "execution_count": 358,
          "metadata": {},
          "output_type": "execute_result"
        }
      ],
      "source": [
        "categorical_attributes = list(df.select_dtypes(include=['object']).columns)\n",
        "categorical_attributes"
      ]
    },
    {
      "cell_type": "code",
      "execution_count": 361,
      "metadata": {
        "colab": {
          "base_uri": "https://localhost:8080/"
        },
        "id": "dn4y-t75o_as",
        "outputId": "4aaace58-6eae-45a3-c837-024c71213203"
      },
      "outputs": [
        {
          "name": "stdout",
          "output_type": "stream",
          "text": [
            "<class 'pandas.core.frame.DataFrame'>\n",
            "RangeIndex: 73238 entries, 0 to 73237\n",
            "Data columns (total 13 columns):\n",
            " #   Column        Non-Null Count  Dtype  \n",
            "---  ------        --------------  -----  \n",
            " 0   Workbook      73238 non-null  int64  \n",
            " 1   Regions       73238 non-null  int32  \n",
            " 2   State - Code  73238 non-null  object \n",
            " 3   From Date     73238 non-null  object \n",
            " 4   To Date       73238 non-null  object \n",
            " 5   CO            73238 non-null  float64\n",
            " 6   NH3           73238 non-null  float64\n",
            " 7   NO2           73238 non-null  float64\n",
            " 8   Ozone         73238 non-null  float64\n",
            " 9   PM10          73238 non-null  float64\n",
            " 10  PM2.5         73238 non-null  float64\n",
            " 11  SO2           73238 non-null  float64\n",
            " 12  Air_Quality   73238 non-null  int32  \n",
            "dtypes: float64(7), int32(2), int64(1), object(3)\n",
            "memory usage: 6.7+ MB\n"
          ]
        }
      ],
      "source": [
        "from sklearn.preprocessing import LabelEncoder\n",
        "from sklearn.model_selection import train_test_split\n",
        "le = LabelEncoder()\n",
        "df['Regions']=le.fit_transform(df['Regions'].astype(str))\n",
        "df['Air_Quality']=le.fit_transform(df['Air_Quality'].astype(str))\n",
        "df.info()"
      ]
    },
    {
      "cell_type": "code",
      "execution_count": 362,
      "metadata": {
        "id": "Mx5VTW3Op1Tt"
      },
      "outputs": [],
      "source": [
        "y = df['Air_Quality']\n",
        "x = df[['Regions', 'PM2.5', 'PM10', 'NO2', 'NH3', 'CO', 'SO2',\n",
        "       'Ozone']]\n",
        "X_train, X_test, y_train, y_test = train_test_split(x, y, test_size = 0.2, random_state = 0)"
      ]
    },
    {
      "cell_type": "code",
      "execution_count": 363,
      "metadata": {
        "colab": {
          "base_uri": "https://localhost:8080/"
        },
        "id": "jmgTI7jdqttu",
        "outputId": "09e79214-5a0e-49eb-e80e-b8c8dcbfea42"
      },
      "outputs": [
        {
          "data": {
            "text/plain": [
              "array([6, 3, 2, 4, 5, 0, 1])"
            ]
          },
          "execution_count": 363,
          "metadata": {},
          "output_type": "execute_result"
        }
      ],
      "source": [
        "df['Air_Quality'].unique()"
      ]
    },
    {
      "cell_type": "code",
      "execution_count": 364,
      "metadata": {
        "colab": {
          "base_uri": "https://localhost:8080/"
        },
        "id": "Rkd7lJQxq74G",
        "outputId": "2b72630b-54d1-415a-8b88-1f32ee86cfab"
      },
      "outputs": [
        {
          "data": {
            "text/plain": [
              "array([ 1, 27, 30, 23, 32, 33, 34,  3,  6, 10, 14, 15, 17, 19, 20,  0,  4,\n",
              "       16, 26, 28, 31, 12, 35, 36, 37,  2,  5,  7,  8,  9, 11, 13, 18, 21,\n",
              "       22, 24, 25, 29])"
            ]
          },
          "execution_count": 364,
          "metadata": {},
          "output_type": "execute_result"
        }
      ],
      "source": [
        "df['Regions'].unique()"
      ]
    },
    {
      "cell_type": "code",
      "execution_count": 365,
      "metadata": {
        "colab": {
          "base_uri": "https://localhost:8080/"
        },
        "id": "EkdSWhFrSix9",
        "outputId": "9de5597f-b6ae-4ce5-cc04-5a2a7685aae9"
      },
      "outputs": [
        {
          "data": {
            "text/plain": [
              "Counter({4: 16888, 2: 16969, 3: 18261, 0: 2764, 6: 2750, 1: 257, 5: 701})"
            ]
          },
          "execution_count": 365,
          "metadata": {},
          "output_type": "execute_result"
        }
      ],
      "source": [
        "#checking data in all categories\n",
        "from collections import Counter\n",
        "Counter(y_train)"
      ]
    },
    {
      "cell_type": "markdown",
      "metadata": {
        "id": "8wpjKEqvTGEh"
      },
      "source": [
        "Data Imbalance:\n",
        "Here we observe that target label is not splitted eqaully. This will cause data imbalance problem. In order to overcome this problem we use the technique called SMOTE(Synthetic Minority Oversampling Technique). This approach solve this problem by oversample the examples in the minority class."
      ]
    },
    {
      "cell_type": "code",
      "execution_count": 366,
      "metadata": {
        "colab": {
          "base_uri": "https://localhost:8080/",
          "height": 363
        },
        "id": "Q1XA1GU-Po9q",
        "outputId": "0e4bce54-e055-486e-be84-b34b63878461"
      },
      "outputs": [
        {
          "name": "stdout",
          "output_type": "stream",
          "text": [
            "Classes and number of values in trainset after SMOTE: Counter({4: 18261, 2: 18261, 3: 18261, 0: 18261, 6: 18261, 1: 18261, 5: 18261})\n"
          ]
        }
      ],
      "source": [
        "from imblearn.over_sampling import SMOTE\n",
        "from collections import Counter\n",
        "oversample = SMOTE()\n",
        "X_train,y_train = oversample.fit_resample(X_train,y_train)\n",
        "print('Classes and number of values in trainset after SMOTE:',Counter(y_train))"
      ]
    },
    {
      "cell_type": "markdown",
      "metadata": {
        "id": "TnF-nAYyTTql"
      },
      "source": [
        "# **Model Training**"
      ]
    },
    {
      "cell_type": "markdown",
      "metadata": {
        "id": "qxYU5wa-TZKj"
      },
      "source": [
        "1. SVM"
      ]
    },
    {
      "cell_type": "code",
      "execution_count": 367,
      "metadata": {
        "colab": {
          "base_uri": "https://localhost:8080/"
        },
        "id": "Ng8yD9esTOzm",
        "outputId": "4be371b8-61eb-49d6-e8c3-40230ff593b4"
      },
      "outputs": [
        {
          "name": "stdout",
          "output_type": "stream",
          "text": [
            "Accuracy =  87.31567449481157\n"
          ]
        }
      ],
      "source": [
        "from sklearn.metrics import accuracy_score\n",
        "import sklearn\n",
        "cls = sklearn.svm.SVC()\n",
        "cls.fit(X_train,y_train)\n",
        "svmpred=cls.predict(X_test)\n",
        "accuracy = accuracy_score(y_test,svmpred)*100\n",
        "print(\"Accuracy = \",accuracy)"
      ]
    },
    {
      "cell_type": "code",
      "execution_count": 368,
      "metadata": {
        "colab": {
          "base_uri": "https://localhost:8080/"
        },
        "id": "PRZC8vWEUmsy",
        "outputId": "71833dc6-ded3-4e27-9bea-a4b057d822e8"
      },
      "outputs": [
        {
          "name": "stdout",
          "output_type": "stream",
          "text": [
            "Confusion matrix\n",
            "\n",
            "[[ 641    0   50    0    0   11    0]\n",
            " [   0   55    0    0    1    0    0]\n",
            " [1563    0 2630    9   52    0    0]\n",
            " [  38    0    6 4472    0    0   68]\n",
            " [   3   22   22    1 4153    0    0]\n",
            " [   0    0    0    0    0  156    0]\n",
            " [   0    0    0    0    0   12  683]]\n"
          ]
        }
      ],
      "source": [
        "from sklearn.metrics import confusion_matrix\n",
        "cm=confusion_matrix(y_test,svmpred)\n",
        "print(\"Confusion matrix\\n\")\n",
        "print(cm)"
      ]
    },
    {
      "cell_type": "code",
      "execution_count": 369,
      "metadata": {
        "colab": {
          "base_uri": "https://localhost:8080/"
        },
        "id": "3PrYVIWYjIcz",
        "outputId": "a4588a14-2368-40c5-e4bf-69213e8789d5"
      },
      "outputs": [
        {
          "name": "stdout",
          "output_type": "stream",
          "text": [
            "              precision    recall  f1-score   support\n",
            "\n",
            "           0       0.91      0.29      0.44      2245\n",
            "           1       0.98      0.71      0.83        77\n",
            "           2       0.62      0.97      0.76      2708\n",
            "           3       0.98      1.00      0.99      4482\n",
            "           4       0.99      0.99      0.99      4206\n",
            "           5       1.00      0.87      0.93       179\n",
            "           6       0.98      0.91      0.94       751\n",
            "\n",
            "    accuracy                           0.87     14648\n",
            "   macro avg       0.92      0.82      0.84     14648\n",
            "weighted avg       0.90      0.87      0.86     14648\n",
            "\n"
          ]
        }
      ],
      "source": [
        "from sklearn.metrics import classification_report\n",
        "print(classification_report(svmpred, y_test))"
      ]
    },
    {
      "cell_type": "code",
      "execution_count": 370,
      "metadata": {
        "colab": {
          "base_uri": "https://localhost:8080/"
        },
        "id": "Rcr_PZxUC24s",
        "outputId": "fe39c4c7-edbd-4ba0-c0f7-9e5465cd5874"
      },
      "outputs": [
        {
          "name": "stdout",
          "output_type": "stream",
          "text": [
            "Cross Validation Scores are [0.87732114 0.96108684 0.96006281 0.96210828 0.96115245]\n",
            "Average Cross Validation score :0.9443463033961766\n"
          ]
        }
      ],
      "source": [
        "from sklearn.model_selection import cross_val_score,KFold\n",
        "kf=KFold(n_splits=5)\n",
        "score=cross_val_score(cls,x,y,cv=kf)\n",
        "print(\"Cross Validation Scores are {}\".format(score))\n",
        "print(\"Average Cross Validation score :{}\".format(score.mean()))"
      ]
    },
    {
      "cell_type": "code",
      "execution_count": 371,
      "metadata": {
        "colab": {
          "base_uri": "https://localhost:8080/"
        },
        "id": "--xIndmkL_sN",
        "outputId": "c063a2e0-74b8-42bd-b80a-14aea8e9d526"
      },
      "outputs": [
        {
          "name": "stderr",
          "output_type": "stream",
          "text": [
            "c:\\Python311\\Lib\\site-packages\\yellowbrick\\classifier\\prcurve.py:254: YellowbrickWarning: micro=True is ignored;specify per_class=False to draw a PR curve after micro-averaging\n",
            "  warnings.warn(\n"
          ]
        },
        {
          "data": {
            "image/png": "[encoded data removed]",
            "text/plain": [
              "<Figure size 800x550 with 1 Axes>"
            ]
          },
          "metadata": {},
          "output_type": "display_data"
        },
        {
          "data": {
            "text/plain": [
              "<Axes: title={'center': 'Precision-Recall Curve for SVC'}, xlabel='Recall', ylabel='Precision'>"
            ]
          },
          "execution_count": 371,
          "metadata": {},
          "output_type": "execute_result"
        }
      ],
      "source": [
        "from yellowbrick.classifier import PrecisionRecallCurve\n",
        "viz = PrecisionRecallCurve(cls,per_class=True,\n",
        "    cmap=\"Set1\")\n",
        "viz.fit(X_train, y_train)\n",
        "viz.score(X_test, y_test)\n",
        "viz.show()"
      ]
    },
    {
      "cell_type": "markdown",
      "metadata": {
        "id": "XBrK89bLVfZw"
      },
      "source": [
        "2. Random Forest"
      ]
    },
    {
      "cell_type": "code",
      "execution_count": 372,
      "metadata": {
        "colab": {
          "base_uri": "https://localhost:8080/"
        },
        "id": "rZSJ0OzxVhHG",
        "outputId": "5c67b271-1560-4cd3-f37c-154465c90bf9"
      },
      "outputs": [
        {
          "name": "stdout",
          "output_type": "stream",
          "text": [
            "accuracy 99.7815401419989\n"
          ]
        }
      ],
      "source": [
        "from sklearn.ensemble import RandomForestClassifier\n",
        "rf = RandomForestClassifier(n_estimators=20, random_state=23)\n",
        "rf = rf.fit(X_train, y_train)\n",
        "rf_predict=rf.predict(X_test)\n",
        "rf_predict1=rf.predict(X_train)\n",
        "rf_acc_score = accuracy_score(y_test, rf_predict)\n",
        "print(\"accuracy\",rf_acc_score*100)"
      ]
    },
    {
      "cell_type": "code",
      "execution_count": 373,
      "metadata": {
        "colab": {
          "base_uri": "https://localhost:8080/"
        },
        "id": "ESRjSQ6TVs0u",
        "outputId": "3c4fd549-6cf8-4efd-b5e7-1483be0b610e"
      },
      "outputs": [
        {
          "name": "stdout",
          "output_type": "stream",
          "text": [
            "confussion matrix\n",
            "[[ 682    0   17    1    0    2    0]\n",
            " [   0   56    0    0    0    0    0]\n",
            " [   2    0 4250    2    0    0    0]\n",
            " [   0    0    0 4584    0    0    0]\n",
            " [   0    0    0    0 4201    0    0]\n",
            " [   0    0    0    0    0  154    2]\n",
            " [   0    1    0    4    0    1  689]]\n"
          ]
        }
      ],
      "source": [
        "rf_conf_matrix = confusion_matrix(y_test, rf_predict)\n",
        "print(\"confussion matrix\")\n",
        "print(rf_conf_matrix)"
      ]
    },
    {
      "cell_type": "code",
      "execution_count": 374,
      "metadata": {
        "colab": {
          "base_uri": "https://localhost:8080/"
        },
        "id": "hPQMRuIuGRJ3",
        "outputId": "59d60640-d62e-4e2d-eb10-99cd8a977a85"
      },
      "outputs": [
        {
          "name": "stdout",
          "output_type": "stream",
          "text": [
            "              precision    recall  f1-score   support\n",
            "\n",
            "           0       0.97      1.00      0.98       684\n",
            "           1       1.00      0.98      0.99        57\n",
            "           2       1.00      1.00      1.00      4267\n",
            "           3       1.00      1.00      1.00      4591\n",
            "           4       1.00      1.00      1.00      4201\n",
            "           5       0.99      0.98      0.98       157\n",
            "           6       0.99      1.00      0.99       691\n",
            "\n",
            "    accuracy                           1.00     14648\n",
            "   macro avg       0.99      0.99      0.99     14648\n",
            "weighted avg       1.00      1.00      1.00     14648\n",
            "\n"
          ]
        }
      ],
      "source": [
        "from sklearn.metrics import classification_report\n",
        "print(classification_report(rf_predict, y_test))"
      ]
    },
    {
      "cell_type": "code",
      "execution_count": 375,
      "metadata": {
        "colab": {
          "base_uri": "https://localhost:8080/"
        },
        "id": "QmMQN973FDQd",
        "outputId": "ad62ef78-2f3f-4c2e-aca3-4bbb29273217"
      },
      "outputs": [
        {
          "name": "stdout",
          "output_type": "stream",
          "text": [
            "Cross Validation Scores are [0.96374932 0.99617695 0.9956308  0.99467468 0.99556223]\n",
            "Average Cross Validation score :0.9891587962439731\n"
          ]
        }
      ],
      "source": [
        "from sklearn.model_selection import cross_val_score,KFold\n",
        "kf=KFold(n_splits=5)\n",
        "score=cross_val_score(rf,x,y,cv=kf)\n",
        "print(\"Cross Validation Scores are {}\".format(score))\n",
        "print(\"Average Cross Validation score :{}\".format(score.mean()))"
      ]
    },
    {
      "cell_type": "code",
      "execution_count": 376,
      "metadata": {
        "colab": {
          "base_uri": "https://localhost:8080/"
        },
        "id": "ePP1fNlxfKAo",
        "outputId": "75c357ab-a752-4a87-9fa9-96398eeb2454"
      },
      "outputs": [
        {
          "data": {
            "image/png": "[encoded data removed]",
            "text/plain": [
              "<Figure size 800x550 with 1 Axes>"
            ]
          },
          "metadata": {},
          "output_type": "display_data"
        }
      ],
      "source": [
        "from sklearn import metrics\n",
        "import numpy as np\n",
        "#define metrics\n",
        "y_pred_prob = rf.predict_proba(X_test)[::,1]\n",
        "fpr, tpr, _= metrics.roc_curve(y_test,y_pred_prob,pos_label=2)\n",
        "auc = np.trapz(tpr,fpr)\n",
        "\n",
        "\n",
        "#create ROC curve\n",
        "plt.plot(fpr,tpr)\n",
        "plt.plot(fpr,tpr,label=\"AUC=\"+str(auc))\n",
        "plt.ylabel('True Positive Rate')\n",
        "plt.xlabel('False Positive Rate')\n",
        "plt.legend(loc=4)\n",
        "plt.show()"
      ]
    },
    {
      "cell_type": "code",
      "execution_count": 377,
      "metadata": {
        "colab": {
          "base_uri": "https://localhost:8080/"
        },
        "id": "pjBBQPCvE0WS",
        "outputId": "576bf784-e0c5-4ffe-c4ad-79e29abb0c68"
      },
      "outputs": [
        {
          "name": "stdout",
          "output_type": "stream",
          "text": [
            "Cross Validation Scores are [0.96374932 0.99617695 0.9956308  0.99467468 0.99556223]\n",
            "Average Cross Validation score :0.9891587962439731\n"
          ]
        }
      ],
      "source": [
        "from sklearn.model_selection import cross_val_score,KFold\n",
        "kf=KFold(n_splits=5)\n",
        "score=cross_val_score(rf,x,y,cv=kf)\n",
        "print(\"Cross Validation Scores are {}\".format(score))\n",
        "print(\"Average Cross Validation score :{}\".format(score.mean()))"
      ]
    },
    {
      "cell_type": "markdown",
      "metadata": {
        "id": "PE7Mp3e0hpwq"
      },
      "source": [
        "3. Logistic Regression"
      ]
    },
    {
      "cell_type": "code",
      "execution_count": 378,
      "metadata": {
        "colab": {
          "base_uri": "https://localhost:8080/"
        },
        "id": "WOeFEyt0hv5x",
        "outputId": "ad5c5586-5149-4306-fd70-71d6b701b435"
      },
      "outputs": [
        {
          "name": "stdout",
          "output_type": "stream",
          "text": [
            "accuracy 53.9800655379574\n"
          ]
        },
        {
          "name": "stderr",
          "output_type": "stream",
          "text": [
            "c:\\Python311\\Lib\\site-packages\\sklearn\\linear_model\\_logistic.py:458: ConvergenceWarning: lbfgs failed to converge (status=1):\n",
            "STOP: TOTAL NO. of ITERATIONS REACHED LIMIT.\n",
            "\n",
            "Increase the number of iterations (max_iter) or scale the data as shown in:\n",
            "    https://scikit-learn.org/stable/modules/preprocessing.html\n",
            "Please also refer to the documentation for alternative solver options:\n",
            "    https://scikit-learn.org/stable/modules/linear_model.html#logistic-regression\n",
            "  n_iter_i = _check_optimize_result(\n"
          ]
        }
      ],
      "source": [
        "from sklearn.linear_model import LogisticRegression\n",
        "logreg = LogisticRegression()\n",
        "lg = logreg.fit(X_train, y_train)\n",
        "lg_pred = lg.predict(X_test)\n",
        "accuracy = accuracy_score(y_test, lg_pred)*100\n",
        "print(\"accuracy\",accuracy)"
      ]
    },
    {
      "cell_type": "code",
      "execution_count": 379,
      "metadata": {
        "colab": {
          "base_uri": "https://localhost:8080/"
        },
        "id": "Xxr6sETAooq-",
        "outputId": "9d339e5e-8029-42a1-d225-b5d850a4b04a"
      },
      "outputs": [
        {
          "name": "stdout",
          "output_type": "stream",
          "text": [
            "confussion matrix\n",
            "[[ 162    0  286  119   17  113    5]\n",
            " [   0   56    0    0    0    0    0]\n",
            " [ 834    0 2276  515  605    1   23]\n",
            " [1528    0  399 1753   24  244  636]\n",
            " [ 151   82  673   43 3251    0    1]\n",
            " [   7    0    0    0    0  113   36]\n",
            " [  78    0    1   63    0  257  296]]\n"
          ]
        }
      ],
      "source": [
        "lg_conf_matrix = confusion_matrix(y_test, lg_pred)\n",
        "print(\"confussion matrix\")\n",
        "print(lg_conf_matrix)"
      ]
    },
    {
      "cell_type": "code",
      "execution_count": 380,
      "metadata": {
        "colab": {
          "base_uri": "https://localhost:8080/"
        },
        "id": "t249bbKJHPfT",
        "outputId": "9fa11d1a-abd6-4b7d-b937-4ff2ac85e124"
      },
      "outputs": [
        {
          "name": "stderr",
          "output_type": "stream",
          "text": [
            "c:\\Python311\\Lib\\site-packages\\sklearn\\linear_model\\_logistic.py:458: ConvergenceWarning: lbfgs failed to converge (status=1):\n",
            "STOP: TOTAL NO. of ITERATIONS REACHED LIMIT.\n",
            "\n",
            "Increase the number of iterations (max_iter) or scale the data as shown in:\n",
            "    https://scikit-learn.org/stable/modules/preprocessing.html\n",
            "Please also refer to the documentation for alternative solver options:\n",
            "    https://scikit-learn.org/stable/modules/linear_model.html#logistic-regression\n",
            "  n_iter_i = _check_optimize_result(\n",
            "c:\\Python311\\Lib\\site-packages\\sklearn\\linear_model\\_logistic.py:458: ConvergenceWarning: lbfgs failed to converge (status=1):\n",
            "STOP: TOTAL NO. of ITERATIONS REACHED LIMIT.\n",
            "\n",
            "Increase the number of iterations (max_iter) or scale the data as shown in:\n",
            "    https://scikit-learn.org/stable/modules/preprocessing.html\n",
            "Please also refer to the documentation for alternative solver options:\n",
            "    https://scikit-learn.org/stable/modules/linear_model.html#logistic-regression\n",
            "  n_iter_i = _check_optimize_result(\n",
            "c:\\Python311\\Lib\\site-packages\\sklearn\\linear_model\\_logistic.py:458: ConvergenceWarning: lbfgs failed to converge (status=1):\n",
            "STOP: TOTAL NO. of ITERATIONS REACHED LIMIT.\n",
            "\n",
            "Increase the number of iterations (max_iter) or scale the data as shown in:\n",
            "    https://scikit-learn.org/stable/modules/preprocessing.html\n",
            "Please also refer to the documentation for alternative solver options:\n",
            "    https://scikit-learn.org/stable/modules/linear_model.html#logistic-regression\n",
            "  n_iter_i = _check_optimize_result(\n",
            "c:\\Python311\\Lib\\site-packages\\sklearn\\linear_model\\_logistic.py:458: ConvergenceWarning: lbfgs failed to converge (status=1):\n",
            "STOP: TOTAL NO. of ITERATIONS REACHED LIMIT.\n",
            "\n",
            "Increase the number of iterations (max_iter) or scale the data as shown in:\n",
            "    https://scikit-learn.org/stable/modules/preprocessing.html\n",
            "Please also refer to the documentation for alternative solver options:\n",
            "    https://scikit-learn.org/stable/modules/linear_model.html#logistic-regression\n",
            "  n_iter_i = _check_optimize_result(\n"
          ]
        },
        {
          "name": "stdout",
          "output_type": "stream",
          "text": [
            "Cross Validation Scores are [0.65141999 0.69053796 0.70692245 0.71065747 0.73277804]\n",
            "Average Cross Validation score :0.6984631818066058\n"
          ]
        },
        {
          "name": "stderr",
          "output_type": "stream",
          "text": [
            "c:\\Python311\\Lib\\site-packages\\sklearn\\linear_model\\_logistic.py:458: ConvergenceWarning: lbfgs failed to converge (status=1):\n",
            "STOP: TOTAL NO. of ITERATIONS REACHED LIMIT.\n",
            "\n",
            "Increase the number of iterations (max_iter) or scale the data as shown in:\n",
            "    https://scikit-learn.org/stable/modules/preprocessing.html\n",
            "Please also refer to the documentation for alternative solver options:\n",
            "    https://scikit-learn.org/stable/modules/linear_model.html#logistic-regression\n",
            "  n_iter_i = _check_optimize_result(\n"
          ]
        }
      ],
      "source": [
        "from sklearn.model_selection import cross_val_score,KFold\n",
        "kf=KFold(n_splits=5)\n",
        "score=cross_val_score(logreg,x,y,cv=kf)\n",
        "print(\"Cross Validation Scores are {}\".format(score))\n",
        "print(\"Average Cross Validation score :{}\".format(score.mean()))"
      ]
    },
    {
      "cell_type": "markdown",
      "metadata": {
        "id": "EYL9zuR2bEkx"
      },
      "source": [
        "4. **Naive Bayes**"
      ]
    },
    {
      "cell_type": "code",
      "execution_count": 381,
      "metadata": {
        "id": "eSF6k7cpZK9m"
      },
      "outputs": [],
      "source": [
        "from sklearn.naive_bayes import GaussianNB\n",
        "nb = GaussianNB()\n",
        "nb= nb.fit(X_train, y_train)\n",
        "nb_pred  =  nb.predict(X_test)"
      ]
    },
    {
      "cell_type": "code",
      "execution_count": 382,
      "metadata": {
        "colab": {
          "base_uri": "https://localhost:8080/"
        },
        "id": "qyvJ1FzPZh6Y",
        "outputId": "8e94c788-d8e0-403e-f2d1-5b0143acd0c4"
      },
      "outputs": [
        {
          "name": "stdout",
          "output_type": "stream",
          "text": [
            "accuracy 67.61332605133806\n"
          ]
        }
      ],
      "source": [
        "from sklearn.metrics import confusion_matrix,accuracy_score\n",
        "cm = confusion_matrix(y_test, nb_pred)\n",
        "ac = accuracy_score(y_test,nb_pred)\n",
        "print(\"accuracy\",ac*100)"
      ]
    },
    {
      "cell_type": "code",
      "execution_count": 383,
      "metadata": {
        "colab": {
          "base_uri": "https://localhost:8080/"
        },
        "id": "PnPwV1SlGNsL",
        "outputId": "487221e9-f768-4c4e-94ab-0de4ff25bf8c"
      },
      "outputs": [
        {
          "name": "stdout",
          "output_type": "stream",
          "text": [
            "confussion matrix\n",
            "[[ 682    0   17    1    0    2    0]\n",
            " [   0   56    0    0    0    0    0]\n",
            " [   2    0 4250    2    0    0    0]\n",
            " [   0    0    0 4584    0    0    0]\n",
            " [   0    0    0    0 4201    0    0]\n",
            " [   0    0    0    0    0  154    2]\n",
            " [   0    1    0    4    0    1  689]]\n"
          ]
        }
      ],
      "source": [
        "nv_conf_matrix = confusion_matrix(y_test, nb_pred)\n",
        "print(\"confussion matrix\")\n",
        "print(rf_conf_matrix)"
      ]
    },
    {
      "cell_type": "code",
      "execution_count": 384,
      "metadata": {
        "colab": {
          "base_uri": "https://localhost:8080/"
        },
        "id": "Q_RPeaoyG7F5",
        "outputId": "17e35c69-c140-4d6f-e075-c6a7f9cca391"
      },
      "outputs": [
        {
          "name": "stdout",
          "output_type": "stream",
          "text": [
            "Cross Validation Scores are [0.76201529 0.85308575 0.85854724 0.8390114  0.8390114 ]\n",
            "Average Cross Validation score :0.8303342165866099\n"
          ]
        }
      ],
      "source": [
        "from sklearn.model_selection import cross_val_score,KFold\n",
        "kf=KFold(n_splits=5)\n",
        "score=cross_val_score(nb,x,y,cv=kf)\n",
        "print(\"Cross Validation Scores are {}\".format(score))\n",
        "print(\"Average Cross Validation score :{}\".format(score.mean()))"
      ]
    }
  ],
  "metadata": {
    "colab": {
      "provenance": []
    },
    "kernelspec": {
      "display_name": "Python 3",
      "name": "python3"
    },
    "language_info": {
      "codemirror_mode": {
        "name": "ipython",
        "version": 3
      },
      "file_extension": ".py",
      "mimetype": "text/x-python",
      "name": "python",
      "nbconvert_exporter": "python",
      "pygments_lexer": "ipython3",
      "version": "3.11.0"
    }
  },
  "nbformat": 4,
  "nbformat_minor": 0
}
